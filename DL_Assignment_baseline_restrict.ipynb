{
  "cells": [
    {
      "cell_type": "code",
      "execution_count": null,
      "metadata": {
        "id": "rkzv6svPQwei"
      },
      "outputs": [],
      "source": [
        "#!pip install scikit-image"
      ]
    },
    {
      "cell_type": "markdown",
      "metadata": {
        "id": "xveQIshNWYdc"
      },
      "source": [
        "# 0. Loading Dataset\n",
        "\n",
        "You can download the dataset from {https://darwin.v7labs.com/v7-labs/covid-19-chest-x-ray-dataset?sort=priority\\%3Adesc}.\n",
        "The data entitled as '`darwin dataset pull v7-labs/covid-19-chest-x-ray-dataset:all-images`' will be used in this assignment. All dataset consist of 6504 images from 702 classes. We will extract the images of 4 classes (Bacterial Pneumonia, Viral Pneumonia, No Pneumonia (healthy), Covid-19) and save them as .npy file with the following code:"
      ]
    },
    {
      "cell_type": "code",
      "execution_count": null,
      "metadata": {
        "id": "I6bqTVRSs-sw",
        "scrolled": true
      },
      "outputs": [],
      "source": [
        "# Imports\n",
        "import warnings\n",
        "warnings.simplefilter(action='ignore')\n",
        "import keras\n",
        "import json\n",
        "import numpy as np\n",
        "import glob\n",
        "import pandas as pd\n",
        "\n",
        "import urllib.request\n",
        "from PIL import Image\n",
        "from keras import layers, models\n",
        "import tensorflow as tf\n",
        "from sklearn.model_selection import train_test_split\n",
        "from sklearn import preprocessing\n",
        "from skimage import io, color\n",
        "import random\n",
        "\n"
      ]
    },
    {
      "cell_type": "code",
      "execution_count": null,
      "metadata": {
        "id": "axpver19Qweu"
      },
      "outputs": [],
      "source": [
        "###################################\n",
        "# > DISABLED - ALREADY EXECUTED < #\n",
        "###################################\n",
        "\n",
        "\n",
        "# # all-images file should be uploaded to the same file\n",
        "# imageNames = glob.glob(\"all-images/*\")\n",
        "# \n",
        "# dataset = []\n",
        "# labels = []\n",
        "# \n",
        "# for i, imName in enumerate(imageNames):\n",
        "# \n",
        "#     # Opening JSON file\n",
        "#     f = open(imName)\n",
        "#     data = json.load(f)\n",
        "#     for j in range(len(data['annotations'])):\n",
        "# \n",
        "#         if 'COVID-19' in (data['annotations'][j]['name']):\n",
        "#           #load images from url    \n",
        "#             urllib.request.urlretrieve(data['image']['url'],\"img.png\")    \n",
        "#             img = Image.open(\"img.png\")\n",
        "#             #convert images to grayscale\n",
        "#             imgGray = img.convert('L')\n",
        "#             #resize the image (156x156)\n",
        "#             im = imgGray.resize((156,156), Image.LANCZOS)           \n",
        "#             label = data['annotations'][j]['name']\n",
        "#             dataset.append(np.array(im))\n",
        "#             labels.append(label)\n",
        "#             print(label)\n",
        "#             break\n",
        "# \n",
        "#         if 'Viral Pneumonia' in (data['annotations'][j]['name']) \\\n",
        "#             or 'Bacterial Pneumonia' in (data['annotations'][j]['name']) \\\n",
        "#             or 'No Pneumonia (healthy)' in (data['annotations'][j]['name']):\n",
        "#             #load images from url    \n",
        "#             urllib.request.urlretrieve(data['image']['url'],\"img.png\")    \n",
        "#             img = Image.open(\"img.png\")\n",
        "#             #convert images to grayscale\n",
        "#             imgGray = img.convert('L')\n",
        "#             #resize the image (156x156)\n",
        "#             im = imgGray.resize((156,156), Image.LANCZOS)           \n",
        "#             label = data['annotations'][j]['name']\n",
        "#             dataset.append(np.array(im))\n",
        "#             labels.append(label)\n",
        "#             break\n",
        "# \n",
        "# #Convert data shape of (n_of_samples, width, height, 1)\n",
        "# dataset = np.dstack(dataset)    \n",
        "# dataset = np.rollaxis(dataset,-1)\n",
        "# labels = np.array(labels)\n",
        "# \n",
        "# #convert images gray scale to rgb\n",
        "# data = np.array(layers.Lambda(tf.image.grayscale_to_rgb)(tf.expand_dims(dataset, -1)))\n",
        "# \n",
        "# # save data and labels into a folder\n",
        "# np.save(\"data.npy\", data)\n",
        "# np.save(\"labels.npy\", labels)"
      ]
    },
    {
      "cell_type": "markdown",
      "metadata": {
        "id": "Dn3sH7yJWboe"
      },
      "source": [
        "Once you save your data, you can load it from your directory."
      ]
    },
    {
      "cell_type": "code",
      "execution_count": null,
      "metadata": {
        "id": "b6ZPDhVLWbyq"
      },
      "outputs": [],
      "source": [
        "features = np.load('/content/drive/MyDrive/newdata/data.npy')\n",
        "labels = np.load('/content/drive/MyDrive/newdata/labels.npy')"
      ]
    },
    {
      "cell_type": "code",
      "execution_count": null,
      "metadata": {
        "colab": {
          "base_uri": "https://localhost:8080/"
        },
        "id": "7ndCmrjnSDzT",
        "outputId": "7fee6a3b-ab22-468b-80a1-a7337e1f6bcc"
      },
      "outputs": [
        {
          "name": "stdout",
          "output_type": "stream",
          "text": [
            "Mounted at /content/drive\n"
          ]
        }
      ],
      "source": [
        "from google.colab import drive\n",
        "drive.mount('/content/drive')"
      ]
    },
    {
      "cell_type": "markdown",
      "metadata": {
        "id": "B1b7dP-VbJpC"
      },
      "source": [
        "# 1. Data preprocessing\n",
        "\n"
      ]
    },
    {
      "cell_type": "markdown",
      "metadata": {
        "id": "UHbJZbShQwe0"
      },
      "source": [
        "### 1.1 Splitting Data"
      ]
    },
    {
      "cell_type": "code",
      "execution_count": null,
      "metadata": {
        "id": "SjWV8GYjQwe0"
      },
      "outputs": [],
      "source": [
        "'''\n",
        "Note from Diego: discuss in the meeting \n",
        "what is exactly stratify and do we need it?\n",
        "'''\n",
        "\n",
        "# Split the data into training and testing sets\n",
        "X_train, X_test, y_train, y_test = train_test_split(\n",
        "    features, labels, test_size=0.2, random_state=42, stratify=labels)\n",
        "\n",
        "# Further split the training set into training and validation sets\n",
        "X_train, X_val, y_train, y_val = train_test_split(\n",
        "    X_train, y_train, test_size=0.25, random_state=42, stratify=y_train)\n"
      ]
    },
    {
      "cell_type": "code",
      "execution_count": null,
      "metadata": {
        "colab": {
          "base_uri": "https://localhost:8080/"
        },
        "id": "bNdNYRoJQwe1",
        "outputId": "91f651fc-603b-449a-aaa6-1c6c8359424a"
      },
      "outputs": [
        {
          "name": "stdout",
          "output_type": "stream",
          "text": [
            "4147\n",
            "1383\n",
            "1383\n"
          ]
        }
      ],
      "source": [
        "print(len(X_train))\n",
        "print(len(X_val))\n",
        "print(len(X_test))"
      ]
    },
    {
      "cell_type": "markdown",
      "metadata": {
        "id": "M57R610hQwe2"
      },
      "source": [
        "### Extra: Easy going here! - Sample restriction 😎🤙🌴  \\#prayforkernel 🙏"
      ]
    },
    {
      "cell_type": "code",
      "execution_count": null,
      "metadata": {
        "id": "7pVt-xQYQwe6"
      },
      "outputs": [],
      "source": [
        "#############################################\n",
        "#             CONTROL PANEL\n",
        "\n",
        "# Sample restriction\n",
        "restriction = True\n",
        "proportion = 0.25\n",
        "#                                           \n",
        "#############################################"
      ]
    },
    {
      "cell_type": "code",
      "execution_count": null,
      "metadata": {
        "id": "AhNaNxGJQwe9"
      },
      "outputs": [],
      "source": [
        "def collect_labels(data, labels):\n",
        "    \n",
        "    img_label_dict = {}\n",
        "    \n",
        "    # relate image and label index in dictionary\n",
        "    for i in range(len(labels)):\n",
        "        img_label_dict[i] = labels[i]\n",
        "        \n",
        "        \n",
        "    # Store all the indexes by label\n",
        "    BP_index = {k for k,v in img_label_dict.items() if v == 'Bacterial Pneumonia'}\n",
        "    VP_index = {k for k,v in img_label_dict.items() if v == 'Viral Pneumonia'}\n",
        "    NP_index = {k for k,v in img_label_dict.items() if v == 'No Pneumonia (healthy)'}\n",
        "    \n",
        "    CV_index = {k for k,v in img_label_dict.items() if v == 'COVID-19'}\n",
        "\n",
        "    return [BP_index, VP_index, NP_index, CV_index], img_label_dict\n",
        "\n",
        "\n",
        "def restrict_sample(proportion, data, labels):\n",
        "\n",
        "    classified_instances, img_label_dict = collect_labels(data, labels)\n",
        "\n",
        "    restricted_sample_indices = set()\n",
        "    restricted_img_label_dict = {}\n",
        "\n",
        "    for i in classified_instances[:-1]:\n",
        "        tmp = random.sample(i, k=int(len(i)*proportion))\n",
        "        for e in tmp:\n",
        "            restricted_sample_indices.add(e)\n",
        "\n",
        "    restricted_sample_indices = restricted_sample_indices.union(classified_instances[-1])\n",
        "    restricted_sample_labels = [img_label_dict.get(i) for i in restricted_sample_indices]\n",
        "    restricted_sample = [data[i] for i in restricted_sample_indices]\n",
        "\n",
        "    return restricted_sample, restricted_sample_labels"
      ]
    },
    {
      "cell_type": "code",
      "execution_count": null,
      "metadata": {
        "id": "P7YvpYFKQwe-"
      },
      "outputs": [],
      "source": [
        "if restriction == True:\n",
        "\n",
        "    restricted_sample_train, restricted_sample_labels_train = restrict_sample(proportion , X_train, y_train)\n",
        "    restricted_sample_val, restricted_sample_labels_val = restrict_sample(proportion , X_val, y_val)\n",
        "    restricted_sample_test, restricted_sample_labels_test = restrict_sample(proportion , X_test, y_test)"
      ]
    },
    {
      "cell_type": "code",
      "execution_count": null,
      "metadata": {
        "colab": {
          "base_uri": "https://localhost:8080/"
        },
        "id": "JqTk_9CmQwe_",
        "outputId": "ab138306-3926-4d26-dc97-ad9097f9774d"
      },
      "outputs": [
        {
          "name": "stdout",
          "output_type": "stream",
          "text": [
            "SAMPLE RESTRICTION SUMMARY\n",
            "\n",
            "\n",
            "ORIGINAL TRAINING SAMPLE\n",
            "Original number of instances: 4147\n",
            "Original instance distribution by class: \n",
            " Bacterial Pneumonia       1689\n",
            "Viral Pneumonia           1182\n",
            "No Pneumonia (healthy)     963\n",
            "COVID-19                   313\n",
            "dtype: int64\n",
            "\n",
            "RESTRICTED TRAINING SAMPLE\n",
            "Number of instances in restricted sample: 1270\n",
            "Instance distribution by class in restricted sample: \n",
            " Bacterial Pneumonia       422\n",
            "COVID-19                  313\n",
            "Viral Pneumonia           295\n",
            "No Pneumonia (healthy)    240\n",
            "dtype: int64\n"
          ]
        }
      ],
      "source": [
        "if restriction == True:\n",
        "    \n",
        "    ############################\n",
        "    # > RESTRICTION  SUMMARY < #\n",
        "    ############################\n",
        "    print(\"SAMPLE RESTRICTION SUMMARY\")\n",
        "    print(\"\")\n",
        "    print(\"\")\n",
        "    print(\"ORIGINAL TRAINING SAMPLE\")\n",
        "    print(F\"Original number of instances: {len(X_train)}\")\n",
        "    print(f\"Original instance distribution by class: \\n {pd.Series(y_train).value_counts()}\")\n",
        "    print(\"\")\n",
        "    print(\"RESTRICTED TRAINING SAMPLE\")\n",
        "    print(f\"Number of instances in restricted sample: {len(restricted_sample_train)}\")\n",
        "    print(f\"Instance distribution by class in restricted sample: \\n {pd.Series(restricted_sample_labels_train).value_counts()}\")\n",
        "    \n",
        "    X_train = np.array(restricted_sample_train)\n",
        "    y_train = np.array(restricted_sample_labels_train)\n",
        "    X_val = np.array(restricted_sample_val)\n",
        "    y_val = np.array(restricted_sample_labels_val)\n",
        "    X_test = np.array(restricted_sample_test)\n",
        "    y_test = np.array(restricted_sample_labels_test)\n",
        "    \n",
        "else:\n",
        "    print(\"SAMPLE RESTRICTION WAS NOT CONDUCTED\")"
      ]
    },
    {
      "cell_type": "code",
      "execution_count": null,
      "metadata": {
        "id": "w4z8TKRPQwfA",
        "outputId": "25f90919-25f1-443a-82db-5c091bb0e6cc"
      },
      "outputs": [
        {
          "name": "stdout",
          "output_type": "stream",
          "text": [
            "1270\n",
            "422\n",
            "423\n"
          ]
        }
      ],
      "source": [
        "print(len(X_train))\n",
        "print(len(X_val))\n",
        "print(len(X_test))"
      ]
    },
    {
      "cell_type": "markdown",
      "metadata": {
        "id": "R-r4ta3MbKLJ"
      },
      "source": [
        "### 1.2 Normalize Data"
      ]
    },
    {
      "cell_type": "code",
      "execution_count": null,
      "metadata": {
        "id": "LeplL77mbKS4"
      },
      "outputs": [],
      "source": [
        "'''\n",
        "Note from Diego:  discuss in the meeting \n",
        "shall we keep only one code snippet for normalize? Select whichever is the most appropriate\n",
        "'''\n",
        "\n",
        "#making them float \n",
        "X_train=X_train.astype('float32')\n",
        "X_test=X_test.astype('float32')\n",
        "X_val=X_val.astype('float32')\n",
        "\n",
        "#Normalizing the data between 0 and 1 \n",
        "X_train=X_train/255.0\n",
        "X_test=X_test/255.0\n",
        "X_val=X_val/255.0\n",
        "\n",
        "\n",
        "# Compute the mean and standard deviation of the training set\n",
        "train_mean = np.mean(X_train, axis=0)\n",
        "train_std = np.std(X_train, axis=0)\n",
        "\n",
        "# Normalize each set separately using the training set statistics\n",
        "X_train_norm = (X_train - train_mean) / train_std\n",
        "X_val_norm = (X_val - train_mean) / train_std\n",
        "X_test_norm = (X_test - train_mean) / train_std\n"
      ]
    },
    {
      "cell_type": "markdown",
      "metadata": {
        "id": "a_XCD31LQwfC"
      },
      "source": [
        "### 1.3 Categorical encoding"
      ]
    },
    {
      "cell_type": "code",
      "execution_count": null,
      "metadata": {
        "id": "WytCaKWoQwfD"
      },
      "outputs": [],
      "source": [
        "# Define a dictionary that maps each category to a numerical value\n",
        "label_map = {\"Bacterial Pneumonia\": 0, \"Viral Pneumonia\": 1, \"No Pneumonia (healthy)\": 2, \"COVID-19\": 3}\n",
        "\n",
        "# Encode the categorical labels as numerical values using the label map\n",
        "y_train_encoded = np.vectorize(label_map.get)(y_train)\n",
        "y_val_encoded = np.vectorize(label_map.get)(y_val)\n",
        "y_test_encoded = np.vectorize(label_map.get)(y_test)\n",
        "\n",
        "# Convert the numerical labels to one-hot encoded format\n",
        "num_classes = 4\n",
        "y_train_onehot = keras.utils.to_categorical(y_train_encoded, num_classes=num_classes)\n",
        "y_val_onehot = keras.utils.to_categorical(y_val_encoded, num_classes=num_classes)\n",
        "y_test_onehot = keras.utils.to_categorical(y_test_encoded, num_classes=num_classes)\n",
        "\n"
      ]
    },
    {
      "cell_type": "markdown",
      "metadata": {
        "id": "YONVgtOAbKca"
      },
      "source": [
        "# 2. Baseline Model"
      ]
    },
    {
      "cell_type": "markdown",
      "metadata": {
        "id": "S2WlIW8WQwfF"
      },
      "source": [
        "### 2.1 Create baseline model"
      ]
    },
    {
      "cell_type": "code",
      "execution_count": null,
      "metadata": {
        "id": "LhUlV9UNbKiH",
        "outputId": "436a1638-c9a3-481f-9056-90637b2d2c9e"
      },
      "outputs": [
        {
          "name": "stderr",
          "output_type": "stream",
          "text": [
            "2023-03-04 09:02:23.053470: W tensorflow/compiler/xla/stream_executor/platform/default/dso_loader.cc:64] Could not load dynamic library 'libcuda.so.1'; dlerror: libcuda.so.1: cannot open shared object file: No such file or directory\n",
            "2023-03-04 09:02:23.055078: W tensorflow/compiler/xla/stream_executor/cuda/cuda_driver.cc:265] failed call to cuInit: UNKNOWN ERROR (303)\n",
            "2023-03-04 09:02:23.056046: I tensorflow/compiler/xla/stream_executor/cuda/cuda_diagnostics.cc:156] kernel driver does not appear to be running on this host (be39edd05863): /proc/driver/nvidia/version does not exist\n",
            "2023-03-04 09:02:23.064725: I tensorflow/core/platform/cpu_feature_guard.cc:193] This TensorFlow binary is optimized with oneAPI Deep Neural Network Library (oneDNN) to use the following CPU instructions in performance-critical operations:  AVX2 FMA\n",
            "To enable them in other operations, rebuild TensorFlow with the appropriate compiler flags.\n",
            "2023-03-04 09:02:23.682938: W tensorflow/tsl/framework/cpu_allocator_impl.cc:82] Allocation of 370880640 exceeds 10% of free system memory.\n"
          ]
        },
        {
          "name": "stdout",
          "output_type": "stream",
          "text": [
            "Epoch 1/10\n"
          ]
        },
        {
          "name": "stderr",
          "output_type": "stream",
          "text": [
            "2023-03-04 09:02:27.128376: W tensorflow/tsl/framework/cpu_allocator_impl.cc:82] Allocation of 194281472 exceeds 10% of free system memory.\n",
            "2023-03-04 09:02:29.578815: W tensorflow/tsl/framework/cpu_allocator_impl.cc:82] Allocation of 194281472 exceeds 10% of free system memory.\n"
          ]
        },
        {
          "name": "stdout",
          "output_type": "stream",
          "text": [
            "\r",
            " 1/40 [..............................] - ETA: 4:38 - loss: 1.3875 - accuracy: 0.2500"
          ]
        },
        {
          "name": "stderr",
          "output_type": "stream",
          "text": [
            "2023-03-04 09:02:31.498282: W tensorflow/tsl/framework/cpu_allocator_impl.cc:82] Allocation of 194281472 exceeds 10% of free system memory.\n",
            "2023-03-04 09:02:33.262060: W tensorflow/tsl/framework/cpu_allocator_impl.cc:82] Allocation of 194281472 exceeds 10% of free system memory.\n"
          ]
        },
        {
          "name": "stdout",
          "output_type": "stream",
          "text": [
            "40/40 [==============================] - 156s 4s/step - loss: 1.1333 - accuracy: 0.5354 - val_loss: 0.9355 - val_accuracy: 0.6280\n",
            "Epoch 2/10\n",
            "40/40 [==============================] - 147s 4s/step - loss: 0.8364 - accuracy: 0.6630 - val_loss: 0.9171 - val_accuracy: 0.6469\n",
            "Epoch 3/10\n",
            "40/40 [==============================] - 145s 4s/step - loss: 0.7316 - accuracy: 0.7126 - val_loss: 0.8077 - val_accuracy: 0.6801\n",
            "Epoch 4/10\n",
            "40/40 [==============================] - 142s 4s/step - loss: 0.6202 - accuracy: 0.7567 - val_loss: 0.8000 - val_accuracy: 0.6943\n",
            "Epoch 5/10\n",
            "40/40 [==============================] - 133s 3s/step - loss: 0.5285 - accuracy: 0.7882 - val_loss: 0.9739 - val_accuracy: 0.6706\n",
            "Epoch 6/10\n",
            "40/40 [==============================] - 132s 3s/step - loss: 0.5007 - accuracy: 0.7882 - val_loss: 0.7928 - val_accuracy: 0.6777\n",
            "Epoch 7/10\n",
            "40/40 [==============================] - 131s 3s/step - loss: 0.3847 - accuracy: 0.8409 - val_loss: 0.9787 - val_accuracy: 0.6872\n",
            "Epoch 8/10\n",
            "40/40 [==============================] - 130s 3s/step - loss: 0.3533 - accuracy: 0.8638 - val_loss: 1.3406 - val_accuracy: 0.6659\n",
            "Epoch 9/10\n",
            "40/40 [==============================] - 130s 3s/step - loss: 0.2854 - accuracy: 0.8780 - val_loss: 1.4035 - val_accuracy: 0.6682\n",
            "Epoch 10/10\n",
            "40/40 [==============================] - 130s 3s/step - loss: 0.2372 - accuracy: 0.9071 - val_loss: 1.3821 - val_accuracy: 0.6635\n"
          ]
        }
      ],
      "source": [
        "\n",
        "from tensorflow import keras\n",
        "\n",
        "def build_baseline_model():\n",
        "    model = keras.Sequential([\n",
        "        # Convolutional layers\n",
        "        keras.layers.Conv2D(filters=64, kernel_size=(3, 3), activation='relu', input_shape=(156, 156, 3)),\n",
        "        keras.layers.Conv2D(filters=32, kernel_size=(3, 3), activation='relu'),\n",
        "        keras.layers.MaxPooling2D(pool_size=(2, 2)),\n",
        "        keras.layers.Conv2D(filters=64, kernel_size=(3, 3), activation='relu'),\n",
        "        keras.layers.Conv2D(filters=32, kernel_size=(3, 3), activation='relu'),\n",
        "        keras.layers.MaxPooling2D(pool_size=(2, 2)),\n",
        "        keras.layers.Conv2D(filters=64, kernel_size=(3, 3), activation='relu'),\n",
        "        keras.layers.Conv2D(filters=32, kernel_size=(3, 3), activation='relu'),\n",
        "        keras.layers.MaxPooling2D(pool_size=(2, 2)),\n",
        "        \n",
        "        # Dense layers\n",
        "        keras.layers.Flatten(),\n",
        "        keras.layers.Dense(32, activation='relu'),\n",
        "        keras.layers.Dense(32, activation='relu'),\n",
        "        keras.layers.Dense(4, activation='softmax')\n",
        "    ])\n",
        "\n",
        "    # Compile the model with appropriate loss function, optimizer, and metrics\n",
        "    model.compile(loss='categorical_crossentropy', optimizer='adam', metrics=['accuracy'])\n",
        "\n",
        "    return model\n",
        "\n",
        "\n",
        "baseline_model = build_baseline_model()\n",
        "\n",
        "# Train the model for 10 epochs with a batch size of 32\n",
        "history = baseline_model.fit(\n",
        "    X_train_norm,\n",
        "    y_train_onehot,\n",
        "    batch_size=32,\n",
        "    epochs=10,\n",
        "    validation_data=(X_val_norm, y_val_onehot)\n",
        ")\n"
      ]
    },
    {
      "cell_type": "markdown",
      "metadata": {
        "id": "zOFuKRShbvTU"
      },
      "source": [
        "### 2.2 Analyze the performance of the baseline model"
      ]
    },
    {
      "cell_type": "code",
      "execution_count": null,
      "metadata": {
        "id": "58gf79ODcFPD",
        "outputId": "1839afa4-8a65-4ae3-b0f6-2a23555cd0d1",
        "scrolled": false
      },
      "outputs": [
        {
          "data": {
            "image/png": "[encoded data removed]",
            "text/plain": [
              "<Figure size 640x480 with 1 Axes>"
            ]
          },
          "metadata": {},
          "output_type": "display_data"
        },
        {
          "data": {
            "image/png": "[encoded data removed]",
            "text/plain": [
              "<Figure size 640x480 with 1 Axes>"
            ]
          },
          "metadata": {},
          "output_type": "display_data"
        },
        {
          "name": "stdout",
          "output_type": "stream",
          "text": [
            "14/14 [==============================] - 8s 497ms/step\n"
          ]
        },
        {
          "data": {
            "image/png": "[encoded data removed]",
            "text/plain": [
              "<Figure size 1000x500 with 1 Axes>"
            ]
          },
          "metadata": {},
          "output_type": "display_data"
        },
        {
          "data": {
            "image/png": "[encoded data removed]",
            "text/plain": [
              "<Figure size 640x480 with 2 Axes>"
            ]
          },
          "metadata": {},
          "output_type": "display_data"
        },
        {
          "name": "stdout",
          "output_type": "stream",
          "text": [
            "                        precision    recall  f1-score   support\n",
            "\n",
            "   Bacterial Pneumonia       0.75      0.75      0.75       141\n",
            "              COVID-19       0.70      0.82      0.76       104\n",
            "No Pneumonia (healthy)       1.00      0.76      0.87        80\n",
            "       Viral Pneumonia       0.44      0.45      0.44        98\n",
            "\n",
            "              accuracy                           0.70       423\n",
            "             macro avg       0.72      0.70      0.70       423\n",
            "          weighted avg       0.71      0.70      0.70       423\n",
            "\n"
          ]
        }
      ],
      "source": [
        "import matplotlib.pyplot as plt\n",
        "\n",
        "##Plot for the accuracy of the baseline model \n",
        "accuracy_train = history.history['accuracy']\n",
        "accuracy_val = history.history['val_accuracy']\n",
        "plt.plot(accuracy_train, label='training_accuracy')\n",
        "plt.plot(accuracy_val, label='validation_accuracy')\n",
        "plt.title('ACCURACY OF THE MODEL')\n",
        "plt.xlabel('Epochs')\n",
        "plt.ylabel('Accuracy')\n",
        "plt.legend()\n",
        "plt.show()\n",
        "\n",
        "##Plot for the loss of the baseline model \n",
        "loss_train = history.history['loss']\n",
        "loss_val = history.history['val_loss']\n",
        "plt.plot(loss_train, label='training_accuracy')\n",
        "plt.plot(loss_val, label='validation_accuracy')\n",
        "plt.title('LOSS OF MODEL')\n",
        "plt.xlabel('Epochs')\n",
        "plt.ylabel('Accuracy')\n",
        "plt.legend()\n",
        "plt.show()\n",
        "\n",
        "##ROC curve \n",
        "y_pred = baseline_model.predict(X_test_norm) \n",
        "\n",
        "from sklearn.metrics import roc_curve, auc\n",
        "import matplotlib.pyplot as plt\n",
        "fpr = {}\n",
        "tpr = {}\n",
        "roc_auc = {}\n",
        "\n",
        "#calculating roc for each class\n",
        "for i in range(num_classes):\n",
        "    fpr[i], tpr[i], _ = roc_curve(y_test_onehot[:,i], y_pred[:,i])\n",
        "    roc_auc[i] = auc(fpr[i], tpr[i])\n",
        "from sklearn.metrics import roc_auc_score\n",
        "\n",
        "# calculating micro-average ROC curve and  area\n",
        "fpr_micro, tpr_micro, _ = roc_curve(y_test_onehot.ravel(), y_pred.ravel())\n",
        "roc_auc_micro = roc_auc_score(y_test_onehot.ravel(), y_pred.ravel())\n",
        "\n",
        "# Compute macro-average ROC curve and  area\n",
        "fpr_macro = np.unique(np.concatenate([fpr[i] for i in range(num_classes)]))\n",
        "tpr_macro = np.zeros_like(fpr_macro)\n",
        "for i in range(num_classes):\n",
        "    tpr_macro += np.interp(fpr_macro, fpr[i], tpr[i])\n",
        "tpr_macro /= num_classes\n",
        "roc_auc_macro = auc(fpr_macro, tpr_macro)\n",
        "\n",
        "#Plot the ROC curve for each class using matplotlib.pyplot.plot()\n",
        "plt.figure(figsize=(10, 5))\n",
        "lw = 2\n",
        "for i in range(num_classes):\n",
        "    plt.plot(fpr[i], tpr[i], lw=lw, label='ROC curve of class %d (area = %0.2f)' % (i, roc_auc[i]))\n",
        "plt.plot([0, 1], [0, 1], color='navy', lw=lw, linestyle='--')\n",
        "plt.plot(fpr_micro, tpr_micro,lw=lw, linestyle='--', label='micro-average ROC curve (area = %0.2f)' % (roc_auc_micro))\n",
        "plt.plot(fpr_macro, tpr_macro,lw=lw, linestyle='--', label='macro-average ROC curve (area = %0.2f)' % (roc_auc_macro))\n",
        "plt.xlim([0.0, 1.0])\n",
        "plt.ylim([0.0, 1.05])\n",
        "plt.xlabel('False Positive Rate')\n",
        "plt.ylabel('True Positive Rate')\n",
        "plt.title('Receiver Operating Characteristic of Multiclass')\n",
        "plt.legend(loc=\"lower right\")\n",
        "plt.show()\n",
        "\n",
        "#reversing pred to categorical so to get the labels \n",
        "inverse_label_map = {v: k for k, v in label_map.items()}  # invert the label_map\n",
        "y_pred_decoded_numerical = np.argmax(y_pred, axis=1)\n",
        "y_pred_decoded_categorical = np.vectorize(inverse_label_map.get)(y_pred_decoded_numerical)\n",
        "\n",
        "#confusion matrix \n",
        "from sklearn.metrics import confusion_matrix\n",
        "cm = confusion_matrix(y_test, y_pred_decoded_categorical)\n",
        "classes = np.unique(y_test)\n",
        "# plot the confusion matrix\n",
        "fig, ax = plt.subplots()\n",
        "im = ax.imshow(cm, interpolation='nearest', cmap='Reds')\n",
        "ax.figure.colorbar(im, ax=ax)\n",
        "ax.set(xticks=np.arange(cm.shape[1]), yticks=np.arange(cm.shape[0]), xticklabels=classes, yticklabels=classes, ylabel='True label', xlabel='Predicted label')\n",
        "\n",
        "# rotate the labels\n",
        "plt.setp(ax.get_xticklabels(), rotation=20, ha=\"right\", rotation_mode=\"anchor\")\n",
        "# text annotations like the numbers inside \n",
        "thresh = cm.max() / 2.\n",
        "for i in range(cm.shape[0]):\n",
        "    for j in range(cm.shape[1]):\n",
        "        ax.text(j, i, format(cm[i, j], 'd'), ha=\"center\", va=\"center\", color=\"white\" if cm[i, j] > thresh else \"black\")\n",
        "plt.show()\n",
        "\n",
        "\n",
        "#precision and recall and f1-score \n",
        "from sklearn.metrics import classification_report\n",
        "print(classification_report(y_test, y_pred_decoded_categorical))"
      ]
    },
    {
      "cell_type": "markdown",
      "metadata": {
        "id": "gnxtO6BIb3_P"
      },
      "source": [
        "# 3. Adapting/fine-tuning the network"
      ]
    },
    {
      "cell_type": "code",
      "execution_count": null,
      "metadata": {
        "colab": {
          "background_save": true
        },
        "id": "62-jcRs-QwfL"
      },
      "outputs": [],
      "source": [
        "#############################################\n",
        "#             CONTROL PANEL\n",
        "\n",
        "# Sample restriction\n",
        "restriction = True\n",
        "proportion = 0.25\n",
        "\n",
        "# Sample augmentation\n",
        "augmentation_flip = False                       \n",
        "augmentation_rotate = False\n",
        "\n",
        "#                                           \n",
        "#############################################\n",
        "\n",
        "\n",
        "# safety mechanism: augmentation and restriction are not meant to be combined\n",
        "if restriction == True:\n",
        "    agumentation_flip = False\n",
        "    augmentation_rotate = False"
      ]
    },
    {
      "cell_type": "code",
      "execution_count": null,
      "metadata": {
        "id": "AXPqM2NTQwfL"
      },
      "outputs": [],
      "source": [
        "# Defining some useful functions for restrition/augmentation\n",
        "\n",
        "def collect_labels(data, labels):\n",
        "    \n",
        "    img_label_dict = {}\n",
        "    \n",
        "    # relate image and label index in dictionary\n",
        "    for i in range(len(labels)):\n",
        "        img_label_dict[i] = labels[i]\n",
        "        \n",
        "        \n",
        "    # Store all the indexes by label\n",
        "    BP_index = {k for k,v in img_label_dict.items() if v == 'Bacterial Pneumonia'}\n",
        "    VP_index = {k for k,v in img_label_dict.items() if v == 'Viral Pneumonia'}\n",
        "    NP_index = {k for k,v in img_label_dict.items() if v == 'No Pneumonia (healthy)'}\n",
        "    \n",
        "    CV_index = {k for k,v in img_label_dict.items() if v == 'COVID-19'}\n",
        "\n",
        "    return [BP_index, VP_index, NP_index, CV_index], img_label_dict\n",
        "\n",
        "\n",
        "def restrict_sample(proportion, data, labels):\n",
        "\n",
        "    classified_instances, img_label_dict = collect_labels(X_train, y_train)\n",
        "\n",
        "    restricted_sample_indices = set()\n",
        "    restricted_img_label_dict = {}\n",
        "\n",
        "    for i in classified_instances[:-1]:\n",
        "        tmp = random.sample(i, k=int(len(i)*proportion))\n",
        "        for e in tmp:\n",
        "            restricted_sample_indices.add(e)\n",
        "\n",
        "    restricted_sample_indices = restricted_sample_indices.union(classified_instances[-1])\n",
        "    restricted_sample_labels = [img_label_dict.get(i) for i in restricted_sample_indices]\n",
        "    restricted_sample = [data[i] for i in restricted_sample_indices]\n",
        "\n",
        "    return restricted_sample, restricted_sample_labels\n",
        "    \n",
        "def rotate90(image):\n",
        "    return tf.image.rot90(image)\n",
        "\n",
        "def rotate180(image):\n",
        "    return tf.image.rot90(rotate90(image))\n",
        "\n",
        "def rotate270(image):\n",
        "    return tf.image.rot90(rotate180(image))  \n",
        "\n",
        "\n",
        "def augment_sample(features, labels):\n",
        "\n",
        "    img_label_dict = {}\n",
        "    \n",
        "    # relate image and label index in dictionary\n",
        "    for i in range(len(labels)):\n",
        "        img_label_dict[i] = labels[i]\n",
        "        \n",
        "        \n",
        "    # Store all the indexes by label\n",
        "    BP_index = {k for k,v in img_label_dict.items() if v == 'Bacterial Pneumonia'}\n",
        "    VP_index = {k for k,v in img_label_dict.items() if v == 'Viral Pneumonia'}\n",
        "    NP_index = {k for k,v in img_label_dict.items() if v == 'No Pneumonia (healthy)'}\n",
        "    \n",
        "    CV_index = {k for k,v in img_label_dict.items() if v == 'COVID-19'}\n",
        "    \n",
        "    # Create list with all the previous lists so it can be used to iterate (except covid)\n",
        "    labels_collect = [BP_index, VP_index, NP_index]\n",
        "    \n",
        "    # Select random sample of 50% of each element which is not covid to apply flip transformation\n",
        "    # The remaining 50% stays the same\n",
        "    to_transform = set()\n",
        "    \n",
        "    for i in labels_collect:\n",
        "        tmp = random.sample(i, k=int(len(i)*0.5))\n",
        "        for e in tmp:\n",
        "            to_transform.add(e)\n",
        "            \n",
        "    not_to_transform = set(img_label_dict.keys()) - to_transform - CV_index\n",
        "    # Creating list for keeping track of the labels for the new data        \n",
        "    new_labels = []\n",
        "\n",
        "    for i in to_transform:\n",
        "        new_labels.append(img_label_dict.get(i))\n",
        "    for i in not_to_transform:\n",
        "        new_labels.append(img_label_dict.get(i))\n",
        "    \n",
        "    # Transform the sampled images and include these in the dataset while deleting the original ones\n",
        "    new_features_no_cv = []\n",
        "    \n",
        "    for i in to_transform: # First all transformed instaces are added to the new list\n",
        "            new_features_no_cv.append(tf.image.flip_left_right(features[i]))\n",
        "    for i in not_to_transform: # And then those that will stay the same\n",
        "            new_features_no_cv.append(features[i])\n",
        "    \n",
        "    # Include in new feature set covid x-rays + augmented covid x-rays\n",
        "    new_features_cv = []\n",
        "    \n",
        "    for i in CV_index:\n",
        "        new_features_cv.append(tf.image.flip_left_right(features[i]))\n",
        "        new_features_cv.append(features[i])\n",
        "    \n",
        "    if augmentation_rotate == False:\n",
        "        \n",
        "        new_labels_cv = ['COVID-19' for i in range(len(new_features_cv))]\n",
        "        \n",
        "        augmentedfeatures = new_features_no_cv + new_features_cv\n",
        "        augmentedlabels = new_labels + new_labels_cv\n",
        "        \n",
        "        return augmentedfeatures, augmentedlabels\n",
        "        \n",
        "    # AUGMENTATION - ROTATE    \n",
        "    elif augmentation_rotate == True:\n",
        "        \n",
        "        #Divide no_cv instances in 3 groups (30%, 35%, 35%)\n",
        "        \n",
        "        fd_features, features_1, fd_labels, labels_1 = train_test_split(new_features_no_cv, new_labels, \n",
        "                                                            test_size=0.3, random_state=42)\n",
        "        \n",
        "        features_2, features_3, labels_2, labels_3 = train_test_split(fd_features, fd_labels, \n",
        "                                                            test_size=0.5, random_state=42)\n",
        "        \n",
        "        # Apply rotate90 to the first group and add both original and rotated to the new feature set alongside the labels\n",
        "        \n",
        "        new_features_2 = []\n",
        "        new_labels_2 = []\n",
        "        \n",
        "        for i in range(len(features_1)):\n",
        "            new_features_2.append(features_1[i])\n",
        "            new_features_2.append(rotate90(features_1[i]))\n",
        "            for e in range(2):\n",
        "                new_labels_2.append(labels_1[i])\n",
        "        \n",
        "        # Idem 180\n",
        "        \n",
        "        for i in range(len(features_2)):\n",
        "            new_features_2.append(features_2[i])\n",
        "            new_features_2.append(rotate180(features_2[i]))\n",
        "            for e in range(2):\n",
        "                new_labels_2.append(labels_2[i])\n",
        "        \n",
        "        # Idem 270\n",
        "        \n",
        "        for i in range(len(features_3)):\n",
        "            new_features_2.append(features_3[i])\n",
        "            new_features_2.append(rotate270(features_3[i]))\n",
        "            for e in range(2):\n",
        "                new_labels_2.append(labels_3[i])\n",
        "        \n",
        "        #Apply all rotations to all cv features and add them to the new set alongside the originals and the labels\n",
        "        \n",
        "        for i in range(len(new_features_cv)):\n",
        "            new_features_2.append(new_features_cv[i])\n",
        "            new_features_2.append(rotate90(features_3[i]))\n",
        "            new_features_2.append(rotate180(features_3[i]))\n",
        "            new_features_2.append(rotate270(features_3[i]))\n",
        "            for e in range(4):\n",
        "                new_labels_2.append('COVID-19')\n",
        "        \n",
        "        \n",
        "        augmentedfeatures = new_features_2\n",
        "        augmentedlabels = new_labels_2\n",
        "        \n",
        "        return augmentedfeatures, augmentedlabels"
      ]
    },
    {
      "cell_type": "markdown",
      "metadata": {
        "id": "gguhf-SWQwfP"
      },
      "source": [
        "### [DISABLED] 3.1 Data restriction "
      ]
    },
    {
      "cell_type": "code",
      "execution_count": null,
      "metadata": {
        "id": "bmBYXxjJQwfQ"
      },
      "outputs": [],
      "source": [
        "#if restriction == True:\n",
        "#\n",
        "#    restricted_sample, restricted_sample_labels = restrict_sample(proportion , X_train, y_train)"
      ]
    },
    {
      "cell_type": "code",
      "execution_count": null,
      "metadata": {
        "id": "WYphSWlgQwfQ",
        "outputId": "4d3421b4-8a35-421a-fccd-c183cc5a42a1"
      },
      "outputs": [
        {
          "name": "stdout",
          "output_type": "stream",
          "text": [
            "SAMPLE RESTRICTION SUMMARY\n",
            "\n",
            "\n",
            "ORIGINAL SAMPLE\n",
            "Original number of instances: 4147\n",
            "Original instance distribution by class: \n",
            " Bacterial Pneumonia       1689\n",
            "Viral Pneumonia           1182\n",
            "No Pneumonia (healthy)     963\n",
            "COVID-19                   313\n",
            "dtype: int64\n",
            "\n",
            "RESTRICTED SAMPLE\n",
            "Number of instances in restricted sample: 957\n",
            "Instance distribution by class in restricted sample: \n",
            " Bacterial Pneumonia       422\n",
            "COVID-19                  313\n",
            "Viral Pneumonia           295\n",
            "No Pneumonia (healthy)    240\n",
            "dtype: int64\n"
          ]
        }
      ],
      "source": [
        "#if restriction == True:\n",
        "#    \n",
        "#    ############################\n",
        "#    # > RESTRICTION  SUMMARY < #\n",
        "#    ############################\n",
        "#    print(\"SAMPLE RESTRICTION SUMMARY\")\n",
        "#    print(\"\")\n",
        "#    print(\"\")\n",
        "#    print(\"ORIGINAL SAMPLE\")\n",
        "#    print(F\"Original number of instances: {len(X_train)}\")\n",
        "#    print(f\"Original instance distribution by class: \\n {pd.Series(y_train).value_counts()}\")\n",
        "#    print(\"\")\n",
        "#    print(\"RESTRICTED SAMPLE\")\n",
        "#    print(f\"Number of instances in restricted sample: {len(restricted_sample)}\")\n",
        "#    print(f\"Instance distribution by class in restricted sample: \\n {pd.Series(restricted_sample_labels).value_counts()}\")\n",
        "#    \n",
        "#    X_train = np.array(restricted_sample)\n",
        "#    y_train = np.array(restricted_sample_labels)\n",
        "#    \n",
        "#else:\n",
        "#    print(\"SAMPLE RESTRICTION WAS NOT CONDUCTED\")"
      ]
    },
    {
      "cell_type": "markdown",
      "metadata": {
        "id": "dcMvoL4pQwfR"
      },
      "source": [
        "### 3.2 [DISABLED] Data Augmentation"
      ]
    },
    {
      "cell_type": "code",
      "execution_count": null,
      "metadata": {
        "id": "kiiQTkq0QwfS"
      },
      "outputs": [],
      "source": [
        "#if augmentation_flip == True:\n",
        "#\n",
        "#    augmentedfeatures, augmentedlabels_ = augment_sample(X_train, y_train)"
      ]
    },
    {
      "cell_type": "code",
      "execution_count": null,
      "metadata": {
        "id": "zq_3vZ7IQwfT",
        "outputId": "c5a6a3e4-ffd3-4ca9-d7f2-ddcdfb621362"
      },
      "outputs": [
        {
          "name": "stdout",
          "output_type": "stream",
          "text": [
            "SAMPLE AUGMENTATION WAS NOT CONDUCTED\n"
          ]
        }
      ],
      "source": [
        "#if augmentation_flip == True:\n",
        "#    \n",
        "#    ############################\n",
        "#    # > AUGMENTATION SUMMARY < #\n",
        "#    ############################\n",
        "#    \n",
        "#    print(\"SAMPLE AUGMENTATION SUMMARY\")\n",
        "#    print(\"\")\n",
        "#    print(\"\")\n",
        "#    print(\"ORIGINAL SAMPLE\")\n",
        "#    print(F\"Original number of instances: {len(labels)}\")\n",
        "#    print(f\"Original instance distribution by class: \\n {pd.Series(labels).value_counts()}\")\n",
        "#    print(\"\")\n",
        "#    print(\"AUGMENTED SAMPLE\")\n",
        "#    print(f\"Number of instances in augmented sample: {len(augmentedlabels)}\")\n",
        "#    print(f\"Instance distribution by class in augmented sample: \\n {pd.Series(augmentedlabels).value_counts()}\")\n",
        "#    \n",
        "#    X_train = np.array(augmentedfeatures)\n",
        "#    y_train = np.array(augmentedlabels)\n",
        "#\n",
        "#else:\n",
        "#    print(\"SAMPLE AUGMENTATION WAS NOT CONDUCTED\")"
      ]
    },
    {
      "cell_type": "markdown",
      "metadata": {
        "id": "dKHsz5PoQwfU"
      },
      "source": [
        "### 3.3 [DISABLED] Categorical encoding of new labels"
      ]
    },
    {
      "cell_type": "code",
      "execution_count": null,
      "metadata": {
        "id": "age1ajkBQwfU"
      },
      "outputs": [],
      "source": [
        "## Define a dictionary that maps each category to a numerical value\n",
        "#label_map = {\"Bacterial Pneumonia\": 0, \"Viral Pneumonia\": 1, \"No Pneumonia (healthy)\": 2, \"COVID-19\": 3}\n",
        "#\n",
        "## Encode the categorical labels as numerical values using the label map\n",
        "#y_train_encoded = np.vectorize(label_map.get)(y_train)\n",
        "#y_val_encoded = np.vectorize(label_map.get)(y_val)\n",
        "#y_test_encoded = np.vectorize(label_map.get)(y_test)\n",
        "#\n",
        "## Convert the numerical labels to one-hot encoded format\n",
        "#num_classes = 4\n",
        "#y_train_onehot = keras.utils.to_categorical(y_train_encoded, num_classes=num_classes)\n",
        "#y_val_onehot = keras.utils.to_categorical(y_val_encoded, num_classes=num_classes)\n",
        "#y_test_onehot = keras.utils.to_categorical(y_test_encoded, num_classes=num_classes)"
      ]
    },
    {
      "cell_type": "markdown",
      "metadata": {
        "id": "pVpXtmr8QwfV"
      },
      "source": [
        "### 3.4 Network fine tuning"
      ]
    },
    {
      "cell_type": "code",
      "execution_count": null,
      "metadata": {
        "id": "oiDja0Mub4YW"
      },
      "outputs": [],
      "source": [
        "# First, let's find an optimum learning rate for the baseline model:\n",
        "# We will set less epochs to make it faster (epochs = 6)\n",
        "\n",
        "from tensorflow import keras\n",
        "import keras.backend as K\n",
        "import matplotlib.pyplot as plt\n",
        "\n",
        "def lr_schedule(epoch, initial_lr, final_lr, total_epochs):\n",
        "    \"\"\"\n",
        "    calculates the learning rate for each epoch based on the initial learning rate, final learning rate, and total number of epochs\n",
        "    \"\"\"\n",
        "    lr = initial_lr + (final_lr - initial_lr) * (epoch / float(total_epochs))\n",
        "    return lr\n",
        "\n",
        "def plot_lr_schedule(initial_lr, final_lr, total_epochs):\n",
        "    lr = [lr_schedule(epoch, initial_lr, final_lr, total_epochs) for epoch in range(total_epochs)]\n",
        "    plt.plot(lr, history.history['val_loss'])\n",
        "    plt.xlabel('Learning Rate')\n",
        "    plt.ylabel('Validation Loss')\n",
        "    plt.title('Learning Rate Schedule')\n",
        "    plt.show()\n",
        "\n",
        "# Adding a Lr Scheduler to check the learning rate evolution during training and to avoid overfitting\n",
        "initial_lr = 0.002\n",
        "final_lr = 0.01\n",
        "baseline_epochs = 6\n",
        "\n",
        "lr_scheduler = keras.callbacks.LearningRateScheduler(lambda epoch: lr_schedule(epoch, initial_lr, final_lr, baseline_epochs))\n",
        "\n",
        "# Train the model for 4 epochs with a batch size of 32\n",
        "history = baseline_model.fit(\n",
        "    X_train_norm,\n",
        "    y_train_onehot,\n",
        "    batch_size=32,\n",
        "    epochs=6,\n",
        "    validation_data=(X_val_norm, y_val_onehot),\n",
        "    callbacks=[lr_scheduler]\n",
        ")\n"
      ]
    },
    {
      "cell_type": "code",
      "execution_count": null,
      "metadata": {
        "id": "DHlVmR7SQwfW"
      },
      "outputs": [],
      "source": [
        "# Rule of thumb: optimal will be a bit lower than when lr starts climbing, usually 10 times lower the climb up point (around 0.005)\n",
        "plot_lr_schedule(initial_lr, final_lr, baseline_epochs)"
      ]
    },
    {
      "cell_type": "code",
      "execution_count": null,
      "metadata": {
        "id": "lmeXMwZgQwfW"
      },
      "outputs": [],
      "source": [
        "\"\"\"from keras import backend as K\n",
        "\n",
        "# Some memory clean-up\n",
        "K.clear_session()\"\"\""
      ]
    },
    {
      "cell_type": "code",
      "execution_count": null,
      "metadata": {
        "colab": {
          "base_uri": "https://localhost:8080/"
        },
        "id": "4epiujaVQwfX",
        "outputId": "5228ac5e-e2dc-40b5-8697-5d2d1aed4445"
      },
      "outputs": [
        {
          "name": "stdout",
          "output_type": "stream",
          "text": [
            "27/27 [==============================] - 19s 95ms/step - loss: 1.0566 - accuracy: 0.5697\n",
            "14/14 [==============================] - 1s 44ms/step - loss: 0.9879 - accuracy: 0.6486\n",
            "27/27 [==============================] - 7s 96ms/step - loss: 1.1135 - accuracy: 0.5561\n",
            "14/14 [==============================] - 1s 40ms/step - loss: 0.8132 - accuracy: 0.6785\n",
            "27/27 [==============================] - 6s 70ms/step - loss: 1.0621 - accuracy: 0.5608\n",
            "14/14 [==============================] - 1s 23ms/step - loss: 0.7731 - accuracy: 0.6667\n",
            "27/27 [==============================] - 6s 66ms/step - loss: 1.0638 - accuracy: 0.5615\n",
            "14/14 [==============================] - 1s 29ms/step - loss: 0.8004 - accuracy: 0.6722\n",
            "27/27 [==============================] - 7s 67ms/step - loss: 1.0806 - accuracy: 0.5478\n",
            "14/14 [==============================] - 1s 27ms/step - loss: 0.7373 - accuracy: 0.7116\n",
            "27/27 [==============================] - 7s 69ms/step - loss: 1.1086 - accuracy: 0.5348\n",
            "14/14 [==============================] - 1s 23ms/step - loss: 0.8967 - accuracy: 0.6690\n",
            "27/27 [==============================] - 6s 67ms/step - loss: 1.0230 - accuracy: 0.5697\n",
            "14/14 [==============================] - 1s 27ms/step - loss: 0.8298 - accuracy: 0.6910\n",
            "27/27 [==============================] - 6s 67ms/step - loss: 1.1069 - accuracy: 0.5360\n",
            "14/14 [==============================] - 1s 26ms/step - loss: 0.7835 - accuracy: 0.6974\n",
            "27/27 [==============================] - 7s 70ms/step - loss: 1.0718 - accuracy: 0.5714\n",
            "14/14 [==============================] - 1s 24ms/step - loss: 0.8242 - accuracy: 0.6572\n",
            "27/27 [==============================] - 6s 75ms/step - loss: 1.0782 - accuracy: 0.5780\n",
            "14/14 [==============================] - 1s 31ms/step - loss: 0.8559 - accuracy: 0.6863\n",
            "27/27 [==============================] - 6s 67ms/step - loss: 1.1470 - accuracy: 0.5455\n",
            "14/14 [==============================] - 1s 25ms/step - loss: 0.8522 - accuracy: 0.6714\n",
            "27/27 [==============================] - 6s 69ms/step - loss: 1.0791 - accuracy: 0.5537\n",
            "14/14 [==============================] - 1s 27ms/step - loss: 0.8904 - accuracy: 0.6548\n",
            "27/27 [==============================] - 6s 68ms/step - loss: 1.0848 - accuracy: 0.5485\n",
            "14/14 [==============================] - 1s 25ms/step - loss: 0.8604 - accuracy: 0.6722\n",
            "27/27 [==============================] - 7s 68ms/step - loss: 1.0647 - accuracy: 0.5419\n",
            "14/14 [==============================] - 1s 23ms/step - loss: 0.7931 - accuracy: 0.7069\n",
            "27/27 [==============================] - 6s 69ms/step - loss: 1.0834 - accuracy: 0.5502\n",
            "14/14 [==============================] - 1s 25ms/step - loss: 0.8081 - accuracy: 0.7092\n",
            "27/27 [==============================] - 6s 68ms/step - loss: 1.0746 - accuracy: 0.5473\n",
            "14/14 [==============================] - 1s 23ms/step - loss: 1.0754 - accuracy: 0.6722\n",
            "27/27 [==============================] - 6s 71ms/step - loss: 1.0893 - accuracy: 0.5726\n",
            "14/14 [==============================] - 1s 24ms/step - loss: 0.7447 - accuracy: 0.7092\n",
            "27/27 [==============================] - 6s 68ms/step - loss: 1.1052 - accuracy: 0.5372\n",
            "14/14 [==============================] - 1s 23ms/step - loss: 0.8440 - accuracy: 0.6761\n",
            "27/27 [==============================] - 7s 67ms/step - loss: 1.0498 - accuracy: 0.5662\n",
            "14/14 [==============================] - 1s 27ms/step - loss: 0.9611 - accuracy: 0.6792\n",
            "27/27 [==============================] - 6s 70ms/step - loss: 1.1199 - accuracy: 0.5325\n",
            "14/14 [==============================] - 1s 27ms/step - loss: 0.7504 - accuracy: 0.7139\n",
            "27/27 [==============================] - 6s 68ms/step - loss: 1.0392 - accuracy: 0.5514\n",
            "14/14 [==============================] - 1s 23ms/step - loss: 0.9285 - accuracy: 0.6572\n",
            "27/27 [==============================] - 7s 68ms/step - loss: 1.0874 - accuracy: 0.5284\n",
            "14/14 [==============================] - 1s 27ms/step - loss: 0.9513 - accuracy: 0.6014\n",
            "27/27 [==============================] - 6s 71ms/step - loss: 1.1369 - accuracy: 0.5289\n",
            "14/14 [==============================] - 1s 25ms/step - loss: 0.8184 - accuracy: 0.6785\n",
            "27/27 [==============================] - 6s 69ms/step - loss: 1.1420 - accuracy: 0.5336\n",
            "14/14 [==============================] - 1s 28ms/step - loss: 0.8402 - accuracy: 0.6809\n",
            "27/27 [==============================] - 6s 68ms/step - loss: 1.1149 - accuracy: 0.5461\n",
            "14/14 [==============================] - 1s 29ms/step - loss: 0.9602 - accuracy: 0.6651\n",
            "27/27 [==============================] - 7s 69ms/step - loss: 1.1078 - accuracy: 0.5785\n",
            "14/14 [==============================] - 1s 23ms/step - loss: 0.7827 - accuracy: 0.7139\n",
            "27/27 [==============================] - 6s 69ms/step - loss: 1.0184 - accuracy: 0.5856\n",
            "14/14 [==============================] - 1s 26ms/step - loss: 0.8329 - accuracy: 0.6809\n",
            "27/27 [==============================] - 6s 68ms/step - loss: 1.0467 - accuracy: 0.5839\n",
            "14/14 [==============================] - 1s 24ms/step - loss: 0.8617 - accuracy: 0.7075\n",
            "27/27 [==============================] - 8s 69ms/step - loss: 1.1349 - accuracy: 0.5667\n",
            "14/14 [==============================] - 1s 24ms/step - loss: 0.8326 - accuracy: 0.6667\n",
            "27/27 [==============================] - 6s 68ms/step - loss: 1.0428 - accuracy: 0.5596\n",
            "14/14 [==============================] - 1s 28ms/step - loss: 0.8419 - accuracy: 0.6998\n",
            "27/27 [==============================] - 6s 68ms/step - loss: 1.1083 - accuracy: 0.5827\n",
            "14/14 [==============================] - 1s 27ms/step - loss: 0.8312 - accuracy: 0.6981\n",
            "27/27 [==============================] - 7s 68ms/step - loss: 1.0474 - accuracy: 0.5478\n",
            "14/14 [==============================] - 1s 23ms/step - loss: 0.8912 - accuracy: 0.6572\n",
            "27/27 [==============================] - 6s 70ms/step - loss: 1.1632 - accuracy: 0.5124\n",
            "14/14 [==============================] - 1s 24ms/step - loss: 0.9447 - accuracy: 0.6548\n",
            "27/27 [==============================] - 6s 69ms/step - loss: 1.0525 - accuracy: 0.5461\n",
            "14/14 [==============================] - 1s 24ms/step - loss: 0.7969 - accuracy: 0.6910\n",
            "27/27 [==============================] - 7s 68ms/step - loss: 1.0857 - accuracy: 0.5490\n",
            "14/14 [==============================] - 1s 24ms/step - loss: 0.7743 - accuracy: 0.7116\n",
            "27/27 [==============================] - 6s 70ms/step - loss: 1.1462 - accuracy: 0.5242\n",
            "14/14 [==============================] - 1s 28ms/step - loss: 0.9060 - accuracy: 0.6265\n",
            "27/27 [==============================] - 6s 68ms/step - loss: 1.0583 - accuracy: 0.5579\n",
            "14/14 [==============================] - 1s 29ms/step - loss: 1.0091 - accuracy: 0.6297\n",
            "27/27 [==============================] - 7s 70ms/step - loss: 1.0576 - accuracy: 0.5632\n",
            "14/14 [==============================] - 1s 28ms/step - loss: 0.8449 - accuracy: 0.6903\n",
            "27/27 [==============================] - 7s 70ms/step - loss: 1.0739 - accuracy: 0.5750\n",
            "14/14 [==============================] - 1s 24ms/step - loss: 0.9206 - accuracy: 0.6643\n",
            "27/27 [==============================] - 6s 70ms/step - loss: 1.0652 - accuracy: 0.5615\n",
            "14/14 [==============================] - 1s 24ms/step - loss: 0.9016 - accuracy: 0.6769\n",
            "27/27 [==============================] - 6s 69ms/step - loss: 1.1034 - accuracy: 0.5525\n",
            "14/14 [==============================] - 1s 24ms/step - loss: 0.7933 - accuracy: 0.6856\n",
            "27/27 [==============================] - 7s 69ms/step - loss: 1.0501 - accuracy: 0.5466\n",
            "14/14 [==============================] - 1s 24ms/step - loss: 0.8147 - accuracy: 0.6998\n",
            "27/27 [==============================] - 7s 69ms/step - loss: 1.0984 - accuracy: 0.5165\n",
            "14/14 [==============================] - 1s 28ms/step - loss: 1.0641 - accuracy: 0.6509\n",
            "27/27 [==============================] - 6s 68ms/step - loss: 1.0406 - accuracy: 0.5584\n",
            "14/14 [==============================] - 1s 24ms/step - loss: 0.6847 - accuracy: 0.7541\n",
            "27/27 [==============================] - 7s 69ms/step - loss: 1.2025 - accuracy: 0.4817\n",
            "14/14 [==============================] - 1s 24ms/step - loss: 0.9183 - accuracy: 0.6619\n",
            "27/27 [==============================] - 6s 69ms/step - loss: 1.0216 - accuracy: 0.5757\n",
            "14/14 [==============================] - 1s 28ms/step - loss: 0.9551 - accuracy: 0.6344\n",
            "27/27 [==============================] - 6s 69ms/step - loss: 1.0573 - accuracy: 0.5478\n",
            "14/14 [==============================] - 1s 24ms/step - loss: 0.7940 - accuracy: 0.6643\n",
            "27/27 [==============================] - 8s 69ms/step - loss: 1.1020 - accuracy: 0.5525\n",
            "14/14 [==============================] - 1s 28ms/step - loss: 1.1727 - accuracy: 0.6217\n",
            "27/27 [==============================] - 6s 71ms/step - loss: 1.0958 - accuracy: 0.5721\n",
            "14/14 [==============================] - 1s 24ms/step - loss: 0.8718 - accuracy: 0.6840\n",
            "27/27 [==============================] - 6s 70ms/step - loss: 1.0798 - accuracy: 0.5537\n",
            "14/14 [==============================] - 1s 29ms/step - loss: 0.7383 - accuracy: 0.7092\n",
            "27/27 [==============================] - 6s 69ms/step - loss: 1.0501 - accuracy: 0.5679\n",
            "14/14 [==============================] - 1s 27ms/step - loss: 0.8343 - accuracy: 0.6501\n",
            "27/27 [==============================] - 7s 69ms/step - loss: 1.1455 - accuracy: 0.4929\n",
            "14/14 [==============================] - 1s 23ms/step - loss: 0.9154 - accuracy: 0.6604\n",
            "27/27 [==============================] - 7s 70ms/step - loss: 1.1066 - accuracy: 0.5313\n",
            "14/14 [==============================] - 1s 25ms/step - loss: 0.7281 - accuracy: 0.7210\n",
            "27/27 [==============================] - 6s 69ms/step - loss: 1.0537 - accuracy: 0.5738\n",
            "14/14 [==============================] - 1s 25ms/step - loss: 0.7857 - accuracy: 0.6809\n",
            "27/27 [==============================] - 7s 70ms/step - loss: 1.0671 - accuracy: 0.5662\n",
            "14/14 [==============================] - 1s 24ms/step - loss: 0.9378 - accuracy: 0.6321\n",
            "27/27 [==============================] - 6s 69ms/step - loss: 1.0732 - accuracy: 0.5903\n",
            "14/14 [==============================] - 1s 30ms/step - loss: 0.7605 - accuracy: 0.7092\n",
            "27/27 [==============================] - 6s 69ms/step - loss: 1.1410 - accuracy: 0.5466\n",
            "14/14 [==============================] - 1s 25ms/step - loss: 0.8718 - accuracy: 0.6478\n",
            "27/27 [==============================] - 7s 69ms/step - loss: 1.1014 - accuracy: 0.5745\n",
            "14/14 [==============================] - 1s 29ms/step - loss: 0.9454 - accuracy: 0.6486\n",
            "27/27 [==============================] - 6s 72ms/step - loss: 1.0779 - accuracy: 0.5419\n",
            "14/14 [==============================] - 1s 25ms/step - loss: 0.7331 - accuracy: 0.7281\n",
            "27/27 [==============================] - 6s 70ms/step - loss: 1.0887 - accuracy: 0.5419\n",
            "14/14 [==============================] - 1s 28ms/step - loss: 0.8284 - accuracy: 0.6738\n",
            "27/27 [==============================] - 6s 70ms/step - loss: 1.0432 - accuracy: 0.5757\n",
            "14/14 [==============================] - 1s 25ms/step - loss: 1.0264 - accuracy: 0.6745\n",
            "27/27 [==============================] - 6s 73ms/step - loss: 1.1590 - accuracy: 0.4911\n",
            "14/14 [==============================] - 1s 25ms/step - loss: 0.7643 - accuracy: 0.7234\n",
            "27/27 [==============================] - 6s 69ms/step - loss: 1.0530 - accuracy: 0.5466\n",
            "14/14 [==============================] - 1s 24ms/step - loss: 0.7671 - accuracy: 0.7116\n",
            "27/27 [==============================] - 7s 69ms/step - loss: 1.0341 - accuracy: 0.5733\n",
            "14/14 [==============================] - 1s 24ms/step - loss: 0.8337 - accuracy: 0.6887\n",
            "27/27 [==============================] - 6s 71ms/step - loss: 1.1223 - accuracy: 0.5372\n",
            "14/14 [==============================] - 1s 28ms/step - loss: 0.9388 - accuracy: 0.6407\n",
            "27/27 [==============================] - 6s 70ms/step - loss: 1.1151 - accuracy: 0.5277\n",
            "14/14 [==============================] - 1s 24ms/step - loss: 0.8536 - accuracy: 0.6738\n",
            "27/27 [==============================] - 8s 70ms/step - loss: 1.1050 - accuracy: 0.5355\n",
            "14/14 [==============================] - 1s 29ms/step - loss: 0.8932 - accuracy: 0.7123\n",
            "27/27 [==============================] - 7s 70ms/step - loss: 1.1046 - accuracy: 0.5502\n",
            "14/14 [==============================] - 1s 25ms/step - loss: 0.7607 - accuracy: 0.6927\n",
            "27/27 [==============================] - 6s 69ms/step - loss: 1.1500 - accuracy: 0.5171\n",
            "14/14 [==============================] - 1s 30ms/step - loss: 0.9547 - accuracy: 0.6194\n",
            "27/27 [==============================] - 6s 70ms/step - loss: 1.1153 - accuracy: 0.5378\n",
            "14/14 [==============================] - 1s 27ms/step - loss: 1.0772 - accuracy: 0.6887\n",
            "27/27 [==============================] - 7s 70ms/step - loss: 1.1123 - accuracy: 0.5549\n",
            "14/14 [==============================] - 1s 25ms/step - loss: 1.0385 - accuracy: 0.6738\n",
            "27/27 [==============================] - 7s 72ms/step - loss: 1.1165 - accuracy: 0.5289\n",
            "14/14 [==============================] - 1s 24ms/step - loss: 0.8400 - accuracy: 0.6927\n",
            "27/27 [==============================] - 6s 69ms/step - loss: 1.1325 - accuracy: 0.5106\n",
            "14/14 [==============================] - 1s 24ms/step - loss: 0.9348 - accuracy: 0.6533\n",
            "27/27 [==============================] - 7s 70ms/step - loss: 1.1082 - accuracy: 0.5620\n",
            "14/14 [==============================] - 1s 25ms/step - loss: 0.6870 - accuracy: 0.7329\n",
            "27/27 [==============================] - 6s 71ms/step - loss: 1.0533 - accuracy: 0.5702\n",
            "14/14 [==============================] - 1s 25ms/step - loss: 0.8547 - accuracy: 0.6170\n",
            "27/27 [==============================] - 6s 70ms/step - loss: 1.1100 - accuracy: 0.5307\n",
            "14/14 [==============================] - 1s 29ms/step - loss: 0.8950 - accuracy: 0.6769\n",
            "27/27 [==============================] - 7s 69ms/step - loss: 1.1685 - accuracy: 0.5254\n",
            "14/14 [==============================] - 1s 24ms/step - loss: 0.8055 - accuracy: 0.6998\n",
            "27/27 [==============================] - 6s 71ms/step - loss: 1.1304 - accuracy: 0.5372\n",
            "14/14 [==============================] - 1s 29ms/step - loss: 0.7955 - accuracy: 0.6927\n",
            "27/27 [==============================] - 6s 69ms/step - loss: 1.1338 - accuracy: 0.5118\n",
            "14/14 [==============================] - 1s 25ms/step - loss: 0.8561 - accuracy: 0.6887\n",
            "27/27 [==============================] - 7s 70ms/step - loss: 1.1006 - accuracy: 0.5643\n",
            "14/14 [==============================] - 1s 29ms/step - loss: 0.9003 - accuracy: 0.6336\n",
            "27/27 [==============================] - 7s 70ms/step - loss: 1.1643 - accuracy: 0.5159\n",
            "14/14 [==============================] - 1s 24ms/step - loss: 0.8825 - accuracy: 0.6738\n",
            "27/27 [==============================] - 7s 71ms/step - loss: 1.1212 - accuracy: 0.5189\n",
            "14/14 [==============================] - 1s 27ms/step - loss: 0.9598 - accuracy: 0.6156\n",
            "27/27 [==============================] - 6s 69ms/step - loss: 1.1123 - accuracy: 0.5714\n",
            "14/14 [==============================] - 1s 29ms/step - loss: 0.8681 - accuracy: 0.6312\n",
            "27/27 [==============================] - 7s 69ms/step - loss: 1.1692 - accuracy: 0.5230\n",
            "14/14 [==============================] - 1s 24ms/step - loss: 0.8180 - accuracy: 0.6643\n",
            "27/27 [==============================] - 6s 71ms/step - loss: 1.0876 - accuracy: 0.5626\n",
            "14/14 [==============================] - 1s 28ms/step - loss: 0.8865 - accuracy: 0.6769\n",
            "27/27 [==============================] - 6s 70ms/step - loss: 1.0801 - accuracy: 0.5466\n",
            "14/14 [==============================] - 1s 25ms/step - loss: 0.8890 - accuracy: 0.7329\n",
            "27/27 [==============================] - 8s 71ms/step - loss: 1.0559 - accuracy: 0.5726\n",
            "14/14 [==============================] - 1s 28ms/step - loss: 0.7771 - accuracy: 0.6950\n",
            "27/27 [==============================] - 7s 69ms/step - loss: 1.0876 - accuracy: 0.5603\n",
            "14/14 [==============================] - 1s 24ms/step - loss: 1.2579 - accuracy: 0.5684\n",
            "27/27 [==============================] - 6s 70ms/step - loss: 1.0660 - accuracy: 0.5655\n",
            "14/14 [==============================] - 1s 29ms/step - loss: 0.7521 - accuracy: 0.6927\n",
            "27/27 [==============================] - 6s 69ms/step - loss: 1.0969 - accuracy: 0.5372\n",
            "14/14 [==============================] - 1s 24ms/step - loss: 0.9564 - accuracy: 0.6501\n",
            "27/27 [==============================] - 7s 70ms/step - loss: 1.0596 - accuracy: 0.5579\n",
            "14/14 [==============================] - 1s 24ms/step - loss: 0.9645 - accuracy: 0.6085\n",
            "27/27 [==============================] - 7s 70ms/step - loss: 1.1173 - accuracy: 0.5053\n",
            "14/14 [==============================] - 1s 28ms/step - loss: 0.8333 - accuracy: 0.6265\n",
            "27/27 [==============================] - 6s 69ms/step - loss: 1.1072 - accuracy: 0.5372\n",
            "14/14 [==============================] - 1s 29ms/step - loss: 1.0146 - accuracy: 0.6336\n",
            "27/27 [==============================] - 6s 70ms/step - loss: 1.1476 - accuracy: 0.5236\n",
            "14/14 [==============================] - 1s 25ms/step - loss: 1.0730 - accuracy: 0.6108\n",
            "27/27 [==============================] - 6s 71ms/step - loss: 1.2341 - accuracy: 0.5030\n",
            "14/14 [==============================] - 1s 24ms/step - loss: 0.9402 - accuracy: 0.6194\n",
            "27/27 [==============================] - 6s 70ms/step - loss: 1.1938 - accuracy: 0.4864\n",
            "14/14 [==============================] - 1s 29ms/step - loss: 1.0591 - accuracy: 0.6217\n",
            "40/40 [==============================] - 9s 96ms/step - loss: 0.9847 - accuracy: 0.5835\n",
            "Best: 0.703172 using {'alpha1': 0.01, 'alpha2': 0.1, 'alpha3': 0.01, 'alpha4': 0.1, 'alpha5': 0.1}\n"
          ]
        }
      ],
      "source": [
        "# TUNED MODEL 1: BASELINE + LR SCHEDULER + KFOLD VALIDATION + EARLY STOPPING\n",
        "from tensorflow import keras\n",
        "from sklearn.model_selection import GridSearchCV\n",
        "'alpha1': 0.01, 'alpha2': 0.1, 'alpha3': 0.01, 'alpha4': 0.1, 'alpha5': 0.1\n",
        "def build_optimized_model(alpha1,alpha2,alpha3,alpha4,alpha5):\n",
        "    model = keras.Sequential([\n",
        "        # Convolutional layers\n",
        "        keras.layers.Conv2D(filters=64, kernel_size=(3, 3), activation=keras.layers.LeakyReLU(alpha=0.01), input_shape=(156, 156, 3)),\n",
        "        keras.layers.Conv2D(filters=32, kernel_size=(3, 3), activation=keras.layers.LeakyReLU(alpha=0.01)),\n",
        "        keras.layers.MaxPooling2D(pool_size=(2, 2)),\n",
        "        keras.layers.Conv2D(filters=64, kernel_size=(3, 3), activation=keras.layers.LeakyReLU(alpha=0.1)),\n",
        "        keras.layers.Conv2D(filters=32, kernel_size=(3, 3), activation=keras.layers.LeakyReLU(alpha=0.1)),\n",
        "        keras.layers.MaxPooling2D(pool_size=(2, 2)),\n",
        "        keras.layers.Conv2D(filters=64, kernel_size=(3, 3),activation=keras.layers.LeakyReLU(alpha=0.01)),\n",
        "        keras.layers.Conv2D(filters=32, kernel_size=(3, 3), activation=keras.layers.LeakyReLU(alpha=0.01)),\n",
        "        keras.layers.MaxPooling2D(pool_size=(2, 2)),\n",
        "        \n",
        "        # Dense layers\n",
        "        keras.layers.Flatten(),\n",
        "        keras.layers.Dense(32, activation=keras.layers.LeakyReLU(alpha=0.1)),\n",
        "        keras.layers.Dense(32,activation=keras.layers.LeakyReLU(alpha=0.1)),\n",
        "        keras.layers.Dense(4,activation='softmax')\n",
        "    ])\n",
        "\n",
        "    # Compile the model with appropriate loss function, optimizer, and metrics\n",
        "    optim = keras.optimizers.Nadam(learning_rate=0.001)\n",
        "    model.compile(loss='categorical_crossentropy', optimizer=optim, metrics=['accuracy'])\n",
        "\n",
        "    return model\n",
        "\n",
        "\n",
        "\n",
        "\n",
        "# Train the model for 10 epochs with a batch size of 32\n",
        "# Define the hyperparameters to test\n",
        "param_grid = {\n",
        "    'alpha1': [0.1, 0.01],\n",
        "    'alpha2': [0.1, 0.01],\n",
        "    'alpha3': [0.1, 0.01],\n",
        "    'alpha4': [0.1, 0.01],\n",
        "    'alpha5': [0.1, 0.01]\n",
        "}\n",
        "\n",
        "# Create a KerasClassifier with the create_model function\n",
        "model = keras.wrappers.scikit_learn.KerasClassifier(build_fn=build_optimized_model, epochs=1, batch_size=32)\n",
        "\n",
        "# Perform a grid search to find the best hyperparameters\n",
        "grid = GridSearchCV(estimator=model, param_grid=param_grid, cv=3)\n",
        "grid_result = grid.fit(X_train_norm, y_train_onehot)\n",
        "\n",
        "# Print the results of the grid search\n",
        "print(\"Best: %f using %s\" % (grid_result.best_score_, grid_result.best_params_))"
      ]
    },
    {
      "cell_type": "code",
      "execution_count": null,
      "metadata": {
        "colab": {
          "base_uri": "https://localhost:8080/"
        },
        "id": "O0uek6j2msEQ",
        "outputId": "fe1cd77e-18c4-409b-bc57-8638e63b628e"
      },
      "outputs": [
        {
          "name": "stderr",
          "output_type": "stream",
          "text": [
            "\u001b[32m[I 2023-03-05 16:39:58,485]\u001b[0m A new study created in memory with name: no-name-12202e51-bac2-49c9-bdf6-0de800fbffcf\u001b[0m\n",
            "\u001b[32m[I 2023-03-05 16:40:31,344]\u001b[0m Trial 0 finished with value: 0.8168593645095825 and parameters: {'filters_1': 32, 'kernel_size_1': (3, 3), 'filters_2': 32, 'kernel_size_2': (3, 3), 'filters_3': 128, 'kernel_size_3': (3, 3), 'filters_4': 128, 'kernel_size_4': (3, 3), 'filters_5': 64, 'kernel_size_5': (5, 5), 'filters_6': 64, 'kernel_size_6': (3, 3), 'units_1': 96, 'units_2': 90, 'learning_rate': 6.317978104305255e-05}. Best is trial 0 with value: 0.8168593645095825.\u001b[0m\n",
            "\u001b[32m[I 2023-03-05 16:41:32,597]\u001b[0m Trial 1 finished with value: 1.3677434921264648 and parameters: {'filters_1': 128, 'kernel_size_1': (3, 3), 'filters_2': 128, 'kernel_size_2': (5, 5), 'filters_3': 128, 'kernel_size_3': (5, 5), 'filters_4': 128, 'kernel_size_4': (5, 5), 'filters_5': 32, 'kernel_size_5': (5, 5), 'filters_6': 64, 'kernel_size_6': (3, 3), 'units_1': 86, 'units_2': 31, 'learning_rate': 0.07961195929477254}. Best is trial 0 with value: 0.8168593645095825.\u001b[0m\n",
            "\u001b[32m[I 2023-03-05 16:42:15,764]\u001b[0m Trial 2 finished with value: 1.3663064241409302 and parameters: {'filters_1': 32, 'kernel_size_1': (3, 3), 'filters_2': 64, 'kernel_size_2': (5, 5), 'filters_3': 64, 'kernel_size_3': (3, 3), 'filters_4': 32, 'kernel_size_4': (5, 5), 'filters_5': 64, 'kernel_size_5': (3, 3), 'filters_6': 64, 'kernel_size_6': (3, 3), 'units_1': 104, 'units_2': 84, 'learning_rate': 0.015905604173294327}. Best is trial 0 with value: 0.8168593645095825.\u001b[0m\n",
            "\u001b[32m[I 2023-03-05 16:42:59,394]\u001b[0m Trial 3 finished with value: 1.0065536499023438 and parameters: {'filters_1': 64, 'kernel_size_1': (3, 3), 'filters_2': 128, 'kernel_size_2': (3, 3), 'filters_3': 32, 'kernel_size_3': (3, 3), 'filters_4': 128, 'kernel_size_4': (5, 5), 'filters_5': 32, 'kernel_size_5': (3, 3), 'filters_6': 32, 'kernel_size_6': (5, 5), 'units_1': 72, 'units_2': 127, 'learning_rate': 0.0031938304480061625}. Best is trial 0 with value: 0.8168593645095825.\u001b[0m\n",
            "\u001b[32m[I 2023-03-05 16:43:43,006]\u001b[0m Trial 4 finished with value: 1.06804621219635 and parameters: {'filters_1': 32, 'kernel_size_1': (5, 5), 'filters_2': 128, 'kernel_size_2': (5, 5), 'filters_3': 32, 'kernel_size_3': (3, 3), 'filters_4': 32, 'kernel_size_4': (3, 3), 'filters_5': 128, 'kernel_size_5': (5, 5), 'filters_6': 64, 'kernel_size_6': (5, 5), 'units_1': 72, 'units_2': 66, 'learning_rate': 0.0011180973988825008}. Best is trial 0 with value: 0.8168593645095825.\u001b[0m\n",
            "\u001b[32m[I 2023-03-05 16:44:26,159]\u001b[0m Trial 5 finished with value: 1.3659706115722656 and parameters: {'filters_1': 128, 'kernel_size_1': (5, 5), 'filters_2': 64, 'kernel_size_2': (3, 3), 'filters_3': 128, 'kernel_size_3': (5, 5), 'filters_4': 32, 'kernel_size_4': (5, 5), 'filters_5': 32, 'kernel_size_5': (5, 5), 'filters_6': 32, 'kernel_size_6': (5, 5), 'units_1': 121, 'units_2': 21, 'learning_rate': 0.018385390111745087}. Best is trial 0 with value: 0.8168593645095825.\u001b[0m\n",
            "\u001b[32m[I 2023-03-05 16:45:07,147]\u001b[0m Trial 6 finished with value: 1.3684836626052856 and parameters: {'filters_1': 128, 'kernel_size_1': (5, 5), 'filters_2': 128, 'kernel_size_2': (3, 3), 'filters_3': 32, 'kernel_size_3': (5, 5), 'filters_4': 64, 'kernel_size_4': (3, 3), 'filters_5': 128, 'kernel_size_5': (3, 3), 'filters_6': 64, 'kernel_size_6': (5, 5), 'units_1': 55, 'units_2': 74, 'learning_rate': 0.0449591724008467}. Best is trial 0 with value: 0.8168593645095825.\u001b[0m\n",
            "\u001b[32m[I 2023-03-05 16:45:51,192]\u001b[0m Trial 7 finished with value: 0.9173762798309326 and parameters: {'filters_1': 128, 'kernel_size_1': (3, 3), 'filters_2': 32, 'kernel_size_2': (5, 5), 'filters_3': 64, 'kernel_size_3': (5, 5), 'filters_4': 32, 'kernel_size_4': (5, 5), 'filters_5': 64, 'kernel_size_5': (5, 5), 'filters_6': 128, 'kernel_size_6': (5, 5), 'units_1': 82, 'units_2': 17, 'learning_rate': 0.0006204284662094158}. Best is trial 0 with value: 0.8168593645095825.\u001b[0m\n",
            "\u001b[32m[I 2023-03-05 16:46:32,137]\u001b[0m Trial 8 finished with value: 0.8513940572738647 and parameters: {'filters_1': 64, 'kernel_size_1': (3, 3), 'filters_2': 128, 'kernel_size_2': (5, 5), 'filters_3': 128, 'kernel_size_3': (5, 5), 'filters_4': 32, 'kernel_size_4': (5, 5), 'filters_5': 64, 'kernel_size_5': (3, 3), 'filters_6': 32, 'kernel_size_6': (3, 3), 'units_1': 45, 'units_2': 67, 'learning_rate': 0.00013205900555600899}. Best is trial 0 with value: 0.8168593645095825.\u001b[0m\n",
            "\u001b[32m[I 2023-03-05 16:47:15,347]\u001b[0m Trial 9 finished with value: 0.9550145864486694 and parameters: {'filters_1': 64, 'kernel_size_1': (3, 3), 'filters_2': 64, 'kernel_size_2': (5, 5), 'filters_3': 64, 'kernel_size_3': (3, 3), 'filters_4': 32, 'kernel_size_4': (3, 3), 'filters_5': 128, 'kernel_size_5': (5, 5), 'filters_6': 64, 'kernel_size_6': (5, 5), 'units_1': 71, 'units_2': 98, 'learning_rate': 0.0005721183629726425}. Best is trial 0 with value: 0.8168593645095825.\u001b[0m\n",
            "\u001b[32m[I 2023-03-05 16:47:38,792]\u001b[0m Trial 10 finished with value: 0.9220212697982788 and parameters: {'filters_1': 32, 'kernel_size_1': (3, 3), 'filters_2': 32, 'kernel_size_2': (3, 3), 'filters_3': 128, 'kernel_size_3': (3, 3), 'filters_4': 128, 'kernel_size_4': (3, 3), 'filters_5': 64, 'kernel_size_5': (5, 5), 'filters_6': 128, 'kernel_size_6': (3, 3), 'units_1': 30, 'units_2': 124, 'learning_rate': 1.09886272271625e-05}. Best is trial 0 with value: 0.8168593645095825.\u001b[0m\n",
            "\u001b[32m[I 2023-03-05 16:48:02,503]\u001b[0m Trial 11 finished with value: 0.8122926950454712 and parameters: {'filters_1': 64, 'kernel_size_1': (3, 3), 'filters_2': 32, 'kernel_size_2': (3, 3), 'filters_3': 128, 'kernel_size_3': (5, 5), 'filters_4': 64, 'kernel_size_4': (3, 3), 'filters_5': 64, 'kernel_size_5': (3, 3), 'filters_6': 32, 'kernel_size_6': (3, 3), 'units_1': 32, 'units_2': 58, 'learning_rate': 6.23838549299744e-05}. Best is trial 11 with value: 0.8122926950454712.\u001b[0m\n",
            "\u001b[32m[I 2023-03-05 16:48:25,238]\u001b[0m Trial 12 finished with value: 0.9019771814346313 and parameters: {'filters_1': 64, 'kernel_size_1': (3, 3), 'filters_2': 32, 'kernel_size_2': (3, 3), 'filters_3': 128, 'kernel_size_3': (5, 5), 'filters_4': 64, 'kernel_size_4': (3, 3), 'filters_5': 64, 'kernel_size_5': (3, 3), 'filters_6': 32, 'kernel_size_6': (3, 3), 'units_1': 20, 'units_2': 49, 'learning_rate': 2.6782971301252345e-05}. Best is trial 11 with value: 0.8122926950454712.\u001b[0m\n",
            "\u001b[32m[I 2023-03-05 16:48:47,912]\u001b[0m Trial 13 finished with value: 0.8050913214683533 and parameters: {'filters_1': 32, 'kernel_size_1': (3, 3), 'filters_2': 32, 'kernel_size_2': (3, 3), 'filters_3': 128, 'kernel_size_3': (3, 3), 'filters_4': 64, 'kernel_size_4': (3, 3), 'filters_5': 64, 'kernel_size_5': (3, 3), 'filters_6': 32, 'kernel_size_6': (3, 3), 'units_1': 105, 'units_2': 100, 'learning_rate': 8.627210394332194e-05}. Best is trial 13 with value: 0.8050913214683533.\u001b[0m\n",
            "\u001b[32m[I 2023-03-05 16:49:11,061]\u001b[0m Trial 14 finished with value: 0.8257789015769958 and parameters: {'filters_1': 64, 'kernel_size_1': (3, 3), 'filters_2': 32, 'kernel_size_2': (3, 3), 'filters_3': 128, 'kernel_size_3': (5, 5), 'filters_4': 64, 'kernel_size_4': (3, 3), 'filters_5': 64, 'kernel_size_5': (3, 3), 'filters_6': 32, 'kernel_size_6': (3, 3), 'units_1': 122, 'units_2': 109, 'learning_rate': 0.0001142479931886828}. Best is trial 13 with value: 0.8050913214683533.\u001b[0m\n",
            "\u001b[32m[I 2023-03-05 16:49:34,154]\u001b[0m Trial 15 finished with value: 1.0021731853485107 and parameters: {'filters_1': 32, 'kernel_size_1': (5, 5), 'filters_2': 32, 'kernel_size_2': (3, 3), 'filters_3': 128, 'kernel_size_3': (3, 3), 'filters_4': 64, 'kernel_size_4': (3, 3), 'filters_5': 64, 'kernel_size_5': (3, 3), 'filters_6': 32, 'kernel_size_6': (3, 3), 'units_1': 52, 'units_2': 48, 'learning_rate': 1.0575062818740154e-05}. Best is trial 13 with value: 0.8050913214683533.\u001b[0m\n",
            "\u001b[32m[I 2023-03-05 16:49:54,209]\u001b[0m Trial 16 finished with value: 0.8745232820510864 and parameters: {'filters_1': 64, 'kernel_size_1': (3, 3), 'filters_2': 32, 'kernel_size_2': (3, 3), 'filters_3': 128, 'kernel_size_3': (3, 3), 'filters_4': 64, 'kernel_size_4': (3, 3), 'filters_5': 64, 'kernel_size_5': (3, 3), 'filters_6': 32, 'kernel_size_6': (3, 3), 'units_1': 107, 'units_2': 51, 'learning_rate': 0.00020098224992832925}. Best is trial 13 with value: 0.8050913214683533.\u001b[0m\n",
            "\u001b[32m[I 2023-03-05 16:50:12,788]\u001b[0m Trial 17 finished with value: 0.8786289095878601 and parameters: {'filters_1': 32, 'kernel_size_1': (3, 3), 'filters_2': 32, 'kernel_size_2': (3, 3), 'filters_3': 128, 'kernel_size_3': (5, 5), 'filters_4': 64, 'kernel_size_4': (3, 3), 'filters_5': 64, 'kernel_size_5': (3, 3), 'filters_6': 32, 'kernel_size_6': (3, 3), 'units_1': 39, 'units_2': 109, 'learning_rate': 3.7014306723945106e-05}. Best is trial 13 with value: 0.8050913214683533.\u001b[0m\n",
            "\u001b[32m[I 2023-03-05 16:50:34,751]\u001b[0m Trial 18 finished with value: 0.9389362931251526 and parameters: {'filters_1': 64, 'kernel_size_1': (5, 5), 'filters_2': 32, 'kernel_size_2': (3, 3), 'filters_3': 64, 'kernel_size_3': (5, 5), 'filters_4': 64, 'kernel_size_4': (3, 3), 'filters_5': 128, 'kernel_size_5': (3, 3), 'filters_6': 128, 'kernel_size_6': (3, 3), 'units_1': 26, 'units_2': 81, 'learning_rate': 0.00019163842816812785}. Best is trial 13 with value: 0.8050913214683533.\u001b[0m\n",
            "\u001b[32m[I 2023-03-05 16:50:57,477]\u001b[0m Trial 19 finished with value: 0.8206980228424072 and parameters: {'filters_1': 32, 'kernel_size_1': (3, 3), 'filters_2': 32, 'kernel_size_2': (3, 3), 'filters_3': 32, 'kernel_size_3': (3, 3), 'filters_4': 64, 'kernel_size_4': (3, 3), 'filters_5': 32, 'kernel_size_5': (3, 3), 'filters_6': 32, 'kernel_size_6': (3, 3), 'units_1': 62, 'units_2': 59, 'learning_rate': 5.3424371509343886e-05}. Best is trial 13 with value: 0.8050913214683533.\u001b[0m\n",
            "\u001b[32m[I 2023-03-05 16:51:40,741]\u001b[0m Trial 20 finished with value: 0.8391361236572266 and parameters: {'filters_1': 32, 'kernel_size_1': (3, 3), 'filters_2': 64, 'kernel_size_2': (3, 3), 'filters_3': 128, 'kernel_size_3': (5, 5), 'filters_4': 64, 'kernel_size_4': (3, 3), 'filters_5': 64, 'kernel_size_5': (3, 3), 'filters_6': 32, 'kernel_size_6': (3, 3), 'units_1': 128, 'units_2': 36, 'learning_rate': 2.5307186338994656e-05}. Best is trial 13 with value: 0.8050913214683533.\u001b[0m\n",
            "\u001b[32m[I 2023-03-05 16:52:00,585]\u001b[0m Trial 21 finished with value: 0.8170273900032043 and parameters: {'filters_1': 32, 'kernel_size_1': (3, 3), 'filters_2': 32, 'kernel_size_2': (3, 3), 'filters_3': 128, 'kernel_size_3': (3, 3), 'filters_4': 128, 'kernel_size_4': (3, 3), 'filters_5': 64, 'kernel_size_5': (5, 5), 'filters_6': 64, 'kernel_size_6': (3, 3), 'units_1': 96, 'units_2': 91, 'learning_rate': 7.434318464734574e-05}. Best is trial 13 with value: 0.8050913214683533.\u001b[0m\n",
            "\u001b[32m[I 2023-03-05 16:52:23,234]\u001b[0m Trial 22 finished with value: 0.7808023691177368 and parameters: {'filters_1': 32, 'kernel_size_1': (3, 3), 'filters_2': 32, 'kernel_size_2': (3, 3), 'filters_3': 128, 'kernel_size_3': (3, 3), 'filters_4': 128, 'kernel_size_4': (3, 3), 'filters_5': 64, 'kernel_size_5': (5, 5), 'filters_6': 64, 'kernel_size_6': (3, 3), 'units_1': 108, 'units_2': 101, 'learning_rate': 6.458572749963824e-05}. Best is trial 22 with value: 0.7808023691177368.\u001b[0m\n",
            "\u001b[32m[I 2023-03-05 16:52:43,996]\u001b[0m Trial 23 finished with value: 0.8780657052993774 and parameters: {'filters_1': 32, 'kernel_size_1': (3, 3), 'filters_2': 32, 'kernel_size_2': (3, 3), 'filters_3': 128, 'kernel_size_3': (3, 3), 'filters_4': 128, 'kernel_size_4': (3, 3), 'filters_5': 64, 'kernel_size_5': (5, 5), 'filters_6': 128, 'kernel_size_6': (3, 3), 'units_1': 113, 'units_2': 107, 'learning_rate': 0.00030661351584619433}. Best is trial 22 with value: 0.7808023691177368.\u001b[0m\n",
            "\u001b[32m[I 2023-03-05 16:53:02,610]\u001b[0m Trial 24 finished with value: 0.8718977570533752 and parameters: {'filters_1': 32, 'kernel_size_1': (3, 3), 'filters_2': 32, 'kernel_size_2': (3, 3), 'filters_3': 128, 'kernel_size_3': (3, 3), 'filters_4': 64, 'kernel_size_4': (3, 3), 'filters_5': 64, 'kernel_size_5': (3, 3), 'filters_6': 32, 'kernel_size_6': (3, 3), 'units_1': 90, 'units_2': 98, 'learning_rate': 9.795635715740285e-05}. Best is trial 22 with value: 0.7808023691177368.\u001b[0m\n",
            "\u001b[32m[I 2023-03-05 16:53:46,308]\u001b[0m Trial 25 finished with value: 0.8004665374755859 and parameters: {'filters_1': 64, 'kernel_size_1': (3, 3), 'filters_2': 32, 'kernel_size_2': (3, 3), 'filters_3': 128, 'kernel_size_3': (3, 3), 'filters_4': 128, 'kernel_size_4': (3, 3), 'filters_5': 64, 'kernel_size_5': (3, 3), 'filters_6': 64, 'kernel_size_6': (3, 3), 'units_1': 111, 'units_2': 113, 'learning_rate': 2.8104608921839933e-05}. Best is trial 22 with value: 0.7808023691177368.\u001b[0m\n",
            "\u001b[32m[I 2023-03-05 16:54:09,058]\u001b[0m Trial 26 finished with value: 0.8750029802322388 and parameters: {'filters_1': 32, 'kernel_size_1': (5, 5), 'filters_2': 32, 'kernel_size_2': (3, 3), 'filters_3': 128, 'kernel_size_3': (3, 3), 'filters_4': 128, 'kernel_size_4': (3, 3), 'filters_5': 64, 'kernel_size_5': (5, 5), 'filters_6': 64, 'kernel_size_6': (3, 3), 'units_1': 111, 'units_2': 116, 'learning_rate': 2.6476437212875003e-05}. Best is trial 22 with value: 0.7808023691177368.\u001b[0m\n",
            "\u001b[32m[I 2023-03-05 16:54:52,751]\u001b[0m Trial 27 finished with value: 0.8311625719070435 and parameters: {'filters_1': 64, 'kernel_size_1': (3, 3), 'filters_2': 32, 'kernel_size_2': (3, 3), 'filters_3': 128, 'kernel_size_3': (3, 3), 'filters_4': 128, 'kernel_size_4': (3, 3), 'filters_5': 64, 'kernel_size_5': (3, 3), 'filters_6': 64, 'kernel_size_6': (3, 3), 'units_1': 103, 'units_2': 119, 'learning_rate': 1.6192463531395603e-05}. Best is trial 22 with value: 0.7808023691177368.\u001b[0m\n",
            "\u001b[32m[I 2023-03-05 16:55:16,008]\u001b[0m Trial 28 finished with value: 0.8218002915382385 and parameters: {'filters_1': 32, 'kernel_size_1': (3, 3), 'filters_2': 32, 'kernel_size_2': (3, 3), 'filters_3': 32, 'kernel_size_3': (3, 3), 'filters_4': 128, 'kernel_size_4': (3, 3), 'filters_5': 32, 'kernel_size_5': (5, 5), 'filters_6': 64, 'kernel_size_6': (3, 3), 'units_1': 118, 'units_2': 96, 'learning_rate': 4.601803704159895e-05}. Best is trial 22 with value: 0.7808023691177368.\u001b[0m\n",
            "\u001b[32m[I 2023-03-05 16:55:59,101]\u001b[0m Trial 29 finished with value: 0.8398435115814209 and parameters: {'filters_1': 128, 'kernel_size_1': (3, 3), 'filters_2': 64, 'kernel_size_2': (3, 3), 'filters_3': 64, 'kernel_size_3': (3, 3), 'filters_4': 128, 'kernel_size_4': (3, 3), 'filters_5': 128, 'kernel_size_5': (5, 5), 'filters_6': 64, 'kernel_size_6': (3, 3), 'units_1': 92, 'units_2': 103, 'learning_rate': 1.8659972447330406e-05}. Best is trial 22 with value: 0.7808023691177368.\u001b[0m\n",
            "\u001b[32m[I 2023-03-05 16:56:18,961]\u001b[0m Trial 30 finished with value: 0.8025729656219482 and parameters: {'filters_1': 32, 'kernel_size_1': (3, 3), 'filters_2': 32, 'kernel_size_2': (3, 3), 'filters_3': 128, 'kernel_size_3': (3, 3), 'filters_4': 128, 'kernel_size_4': (3, 3), 'filters_5': 64, 'kernel_size_5': (3, 3), 'filters_6': 64, 'kernel_size_6': (3, 3), 'units_1': 80, 'units_2': 86, 'learning_rate': 3.990188904069892e-05}. Best is trial 22 with value: 0.7808023691177368.\u001b[0m\n",
            "\u001b[32m[I 2023-03-05 16:56:42,466]\u001b[0m Trial 31 finished with value: 0.7848108410835266 and parameters: {'filters_1': 32, 'kernel_size_1': (3, 3), 'filters_2': 32, 'kernel_size_2': (3, 3), 'filters_3': 128, 'kernel_size_3': (3, 3), 'filters_4': 128, 'kernel_size_4': (3, 3), 'filters_5': 64, 'kernel_size_5': (3, 3), 'filters_6': 64, 'kernel_size_6': (3, 3), 'units_1': 100, 'units_2': 86, 'learning_rate': 4.153961672323271e-05}. Best is trial 22 with value: 0.7808023691177368.\u001b[0m\n",
            "\u001b[32m[I 2023-03-05 16:57:02,139]\u001b[0m Trial 32 finished with value: 0.8099915385246277 and parameters: {'filters_1': 32, 'kernel_size_1': (3, 3), 'filters_2': 32, 'kernel_size_2': (3, 3), 'filters_3': 128, 'kernel_size_3': (3, 3), 'filters_4': 128, 'kernel_size_4': (3, 3), 'filters_5': 64, 'kernel_size_5': (3, 3), 'filters_6': 64, 'kernel_size_6': (3, 3), 'units_1': 82, 'units_2': 81, 'learning_rate': 3.6500854027788605e-05}. Best is trial 22 with value: 0.7808023691177368.\u001b[0m\n",
            "\u001b[32m[I 2023-03-05 16:57:25,671]\u001b[0m Trial 33 finished with value: 0.8063771724700928 and parameters: {'filters_1': 32, 'kernel_size_1': (3, 3), 'filters_2': 32, 'kernel_size_2': (3, 3), 'filters_3': 128, 'kernel_size_3': (3, 3), 'filters_4': 128, 'kernel_size_4': (3, 3), 'filters_5': 64, 'kernel_size_5': (3, 3), 'filters_6': 64, 'kernel_size_6': (3, 3), 'units_1': 80, 'units_2': 88, 'learning_rate': 5.039126487058964e-05}. Best is trial 22 with value: 0.7808023691177368.\u001b[0m\n",
            "\u001b[32m[I 2023-03-05 16:58:08,823]\u001b[0m Trial 34 finished with value: 0.8656973242759705 and parameters: {'filters_1': 32, 'kernel_size_1': (3, 3), 'filters_2': 32, 'kernel_size_2': (5, 5), 'filters_3': 128, 'kernel_size_3': (3, 3), 'filters_4': 128, 'kernel_size_4': (5, 5), 'filters_5': 64, 'kernel_size_5': (3, 3), 'filters_6': 64, 'kernel_size_6': (3, 3), 'units_1': 100, 'units_2': 74, 'learning_rate': 1.4723674370144204e-05}. Best is trial 22 with value: 0.7808023691177368.\u001b[0m\n",
            "\u001b[32m[I 2023-03-05 16:58:51,947]\u001b[0m Trial 35 finished with value: 0.8404718637466431 and parameters: {'filters_1': 32, 'kernel_size_1': (3, 3), 'filters_2': 128, 'kernel_size_2': (3, 3), 'filters_3': 128, 'kernel_size_3': (3, 3), 'filters_4': 128, 'kernel_size_4': (3, 3), 'filters_5': 32, 'kernel_size_5': (3, 3), 'filters_6': 64, 'kernel_size_6': (3, 3), 'units_1': 110, 'units_2': 92, 'learning_rate': 2.0642139809656677e-05}. Best is trial 22 with value: 0.7808023691177368.\u001b[0m\n",
            "\u001b[32m[I 2023-03-05 16:59:26,948]\u001b[0m Trial 36 finished with value: 0.8637701272964478 and parameters: {'filters_1': 128, 'kernel_size_1': (3, 3), 'filters_2': 32, 'kernel_size_2': (5, 5), 'filters_3': 128, 'kernel_size_3': (3, 3), 'filters_4': 128, 'kernel_size_4': (5, 5), 'filters_5': 64, 'kernel_size_5': (5, 5), 'filters_6': 64, 'kernel_size_6': (5, 5), 'units_1': 95, 'units_2': 116, 'learning_rate': 2.9150244348361617e-05}. Best is trial 22 with value: 0.7808023691177368.\u001b[0m\n",
            "\u001b[32m[I 2023-03-05 16:59:48,572]\u001b[0m Trial 37 finished with value: 0.8776627779006958 and parameters: {'filters_1': 32, 'kernel_size_1': (5, 5), 'filters_2': 64, 'kernel_size_2': (3, 3), 'filters_3': 32, 'kernel_size_3': (3, 3), 'filters_4': 128, 'kernel_size_4': (3, 3), 'filters_5': 64, 'kernel_size_5': (3, 3), 'filters_6': 64, 'kernel_size_6': (3, 3), 'units_1': 87, 'units_2': 83, 'learning_rate': 4.770612295227997e-05}. Best is trial 22 with value: 0.7808023691177368.\u001b[0m\n",
            "\u001b[32m[I 2023-03-05 17:00:32,598]\u001b[0m Trial 38 finished with value: 0.8747403621673584 and parameters: {'filters_1': 64, 'kernel_size_1': (3, 3), 'filters_2': 128, 'kernel_size_2': (3, 3), 'filters_3': 128, 'kernel_size_3': (3, 3), 'filters_4': 128, 'kernel_size_4': (5, 5), 'filters_5': 32, 'kernel_size_5': (3, 3), 'filters_6': 64, 'kernel_size_6': (3, 3), 'units_1': 75, 'units_2': 106, 'learning_rate': 7.422711300296504e-05}. Best is trial 22 with value: 0.7808023691177368.\u001b[0m\n",
            "\u001b[32m[I 2023-03-05 17:01:15,887]\u001b[0m Trial 39 finished with value: 0.8637473583221436 and parameters: {'filters_1': 128, 'kernel_size_1': (3, 3), 'filters_2': 32, 'kernel_size_2': (5, 5), 'filters_3': 64, 'kernel_size_3': (3, 3), 'filters_4': 128, 'kernel_size_4': (3, 3), 'filters_5': 128, 'kernel_size_5': (5, 5), 'filters_6': 64, 'kernel_size_6': (5, 5), 'units_1': 99, 'units_2': 87, 'learning_rate': 0.00013398553867383865}. Best is trial 22 with value: 0.7808023691177368.\u001b[0m\n",
            "\u001b[32m[I 2023-03-05 17:01:59,979]\u001b[0m Trial 40 finished with value: 0.8650515675544739 and parameters: {'filters_1': 32, 'kernel_size_1': (5, 5), 'filters_2': 128, 'kernel_size_2': (3, 3), 'filters_3': 32, 'kernel_size_3': (3, 3), 'filters_4': 128, 'kernel_size_4': (5, 5), 'filters_5': 64, 'kernel_size_5': (3, 3), 'filters_6': 64, 'kernel_size_6': (5, 5), 'units_1': 65, 'units_2': 76, 'learning_rate': 0.001866023281986095}. Best is trial 22 with value: 0.7808023691177368.\u001b[0m\n",
            "\u001b[32m[I 2023-03-05 17:02:22,665]\u001b[0m Trial 41 finished with value: 0.7885610461235046 and parameters: {'filters_1': 32, 'kernel_size_1': (3, 3), 'filters_2': 32, 'kernel_size_2': (3, 3), 'filters_3': 128, 'kernel_size_3': (3, 3), 'filters_4': 128, 'kernel_size_4': (3, 3), 'filters_5': 64, 'kernel_size_5': (3, 3), 'filters_6': 64, 'kernel_size_6': (3, 3), 'units_1': 116, 'units_2': 101, 'learning_rate': 7.142450733142122e-05}. Best is trial 22 with value: 0.7808023691177368.\u001b[0m\n",
            "\u001b[32m[I 2023-03-05 17:02:45,357]\u001b[0m Trial 42 finished with value: 0.9331539869308472 and parameters: {'filters_1': 32, 'kernel_size_1': (3, 3), 'filters_2': 32, 'kernel_size_2': (3, 3), 'filters_3': 128, 'kernel_size_3': (3, 3), 'filters_4': 128, 'kernel_size_4': (3, 3), 'filters_5': 64, 'kernel_size_5': (3, 3), 'filters_6': 64, 'kernel_size_6': (3, 3), 'units_1': 116, 'units_2': 95, 'learning_rate': 4.0583761977517406e-05}. Best is trial 22 with value: 0.7808023691177368.\u001b[0m\n",
            "\u001b[32m[I 2023-03-05 17:03:05,219]\u001b[0m Trial 43 finished with value: 0.8691070079803467 and parameters: {'filters_1': 32, 'kernel_size_1': (3, 3), 'filters_2': 32, 'kernel_size_2': (3, 3), 'filters_3': 128, 'kernel_size_3': (3, 3), 'filters_4': 128, 'kernel_size_4': (3, 3), 'filters_5': 64, 'kernel_size_5': (3, 3), 'filters_6': 64, 'kernel_size_6': (3, 3), 'units_1': 122, 'units_2': 112, 'learning_rate': 1.6636558545229322e-05}. Best is trial 22 with value: 0.7808023691177368.\u001b[0m\n",
            "\u001b[32m[I 2023-03-05 17:03:21,831]\u001b[0m Trial 44 finished with value: 0.7857125997543335 and parameters: {'filters_1': 32, 'kernel_size_1': (3, 3), 'filters_2': 32, 'kernel_size_2': (3, 3), 'filters_3': 128, 'kernel_size_3': (3, 3), 'filters_4': 32, 'kernel_size_4': (3, 3), 'filters_5': 64, 'kernel_size_5': (3, 3), 'filters_6': 64, 'kernel_size_6': (3, 3), 'units_1': 107, 'units_2': 128, 'learning_rate': 6.93241764860245e-05}. Best is trial 22 with value: 0.7808023691177368.\u001b[0m\n",
            "\u001b[32m[I 2023-03-05 17:03:42,499]\u001b[0m Trial 45 finished with value: 0.8032636642456055 and parameters: {'filters_1': 64, 'kernel_size_1': (3, 3), 'filters_2': 32, 'kernel_size_2': (3, 3), 'filters_3': 128, 'kernel_size_3': (3, 3), 'filters_4': 32, 'kernel_size_4': (3, 3), 'filters_5': 64, 'kernel_size_5': (5, 5), 'filters_6': 64, 'kernel_size_6': (3, 3), 'units_1': 127, 'units_2': 128, 'learning_rate': 7.361753520876881e-05}. Best is trial 22 with value: 0.7808023691177368.\u001b[0m\n",
            "\u001b[32m[I 2023-03-05 17:04:25,744]\u001b[0m Trial 46 finished with value: 0.8605154156684875 and parameters: {'filters_1': 32, 'kernel_size_1': (3, 3), 'filters_2': 64, 'kernel_size_2': (5, 5), 'filters_3': 128, 'kernel_size_3': (3, 3), 'filters_4': 32, 'kernel_size_4': (3, 3), 'filters_5': 64, 'kernel_size_5': (3, 3), 'filters_6': 128, 'kernel_size_6': (5, 5), 'units_1': 107, 'units_2': 122, 'learning_rate': 0.000311671107355301}. Best is trial 22 with value: 0.7808023691177368.\u001b[0m\n",
            "\u001b[32m[I 2023-03-05 17:05:09,607]\u001b[0m Trial 47 finished with value: 0.8649470806121826 and parameters: {'filters_1': 128, 'kernel_size_1': (3, 3), 'filters_2': 32, 'kernel_size_2': (3, 3), 'filters_3': 64, 'kernel_size_3': (3, 3), 'filters_4': 32, 'kernel_size_4': (3, 3), 'filters_5': 128, 'kernel_size_5': (3, 3), 'filters_6': 64, 'kernel_size_6': (3, 3), 'units_1': 116, 'units_2': 115, 'learning_rate': 1.0263847397306889e-05}. Best is trial 22 with value: 0.7808023691177368.\u001b[0m\n",
            "\u001b[32m[I 2023-03-05 17:05:32,271]\u001b[0m Trial 48 finished with value: 0.8240543603897095 and parameters: {'filters_1': 64, 'kernel_size_1': (3, 3), 'filters_2': 32, 'kernel_size_2': (3, 3), 'filters_3': 128, 'kernel_size_3': (3, 3), 'filters_4': 32, 'kernel_size_4': (3, 3), 'filters_5': 64, 'kernel_size_5': (3, 3), 'filters_6': 64, 'kernel_size_6': (3, 3), 'units_1': 103, 'units_2': 123, 'learning_rate': 0.00013119230612741378}. Best is trial 22 with value: 0.7808023691177368.\u001b[0m\n",
            "\u001b[32m[I 2023-03-05 17:06:15,441]\u001b[0m Trial 49 finished with value: 0.8295972943305969 and parameters: {'filters_1': 32, 'kernel_size_1': (3, 3), 'filters_2': 128, 'kernel_size_2': (3, 3), 'filters_3': 128, 'kernel_size_3': (3, 3), 'filters_4': 32, 'kernel_size_4': (5, 5), 'filters_5': 64, 'kernel_size_5': (5, 5), 'filters_6': 64, 'kernel_size_6': (3, 3), 'units_1': 123, 'units_2': 102, 'learning_rate': 6.390817559152106e-05}. Best is trial 22 with value: 0.7808023691177368.\u001b[0m\n",
            "\u001b[32m[I 2023-03-05 17:06:38,139]\u001b[0m Trial 50 finished with value: 0.7908234000205994 and parameters: {'filters_1': 32, 'kernel_size_1': (5, 5), 'filters_2': 32, 'kernel_size_2': (5, 5), 'filters_3': 128, 'kernel_size_3': (3, 3), 'filters_4': 32, 'kernel_size_4': (3, 3), 'filters_5': 64, 'kernel_size_5': (3, 3), 'filters_6': 64, 'kernel_size_6': (3, 3), 'units_1': 112, 'units_2': 111, 'learning_rate': 9.921993622778331e-05}. Best is trial 22 with value: 0.7808023691177368.\u001b[0m\n",
            "\u001b[32m[I 2023-03-05 17:07:00,847]\u001b[0m Trial 51 finished with value: 0.7992048263549805 and parameters: {'filters_1': 32, 'kernel_size_1': (5, 5), 'filters_2': 32, 'kernel_size_2': (5, 5), 'filters_3': 128, 'kernel_size_3': (3, 3), 'filters_4': 32, 'kernel_size_4': (3, 3), 'filters_5': 64, 'kernel_size_5': (3, 3), 'filters_6': 64, 'kernel_size_6': (3, 3), 'units_1': 113, 'units_2': 110, 'learning_rate': 0.00010329290720533477}. Best is trial 22 with value: 0.7808023691177368.\u001b[0m\n",
            "\u001b[32m[I 2023-03-05 17:07:23,546]\u001b[0m Trial 52 finished with value: 0.8036863207817078 and parameters: {'filters_1': 32, 'kernel_size_1': (5, 5), 'filters_2': 32, 'kernel_size_2': (5, 5), 'filters_3': 128, 'kernel_size_3': (3, 3), 'filters_4': 32, 'kernel_size_4': (3, 3), 'filters_5': 64, 'kernel_size_5': (3, 3), 'filters_6': 64, 'kernel_size_6': (3, 3), 'units_1': 118, 'units_2': 105, 'learning_rate': 0.00010351450155607063}. Best is trial 22 with value: 0.7808023691177368.\u001b[0m\n",
            "\u001b[32m[I 2023-03-05 17:07:42,242]\u001b[0m Trial 53 finished with value: 0.7990895509719849 and parameters: {'filters_1': 32, 'kernel_size_1': (5, 5), 'filters_2': 32, 'kernel_size_2': (5, 5), 'filters_3': 128, 'kernel_size_3': (3, 3), 'filters_4': 32, 'kernel_size_4': (3, 3), 'filters_5': 64, 'kernel_size_5': (3, 3), 'filters_6': 64, 'kernel_size_6': (3, 3), 'units_1': 100, 'units_2': 119, 'learning_rate': 0.00021659404487601102}. Best is trial 22 with value: 0.7808023691177368.\u001b[0m\n",
            "\u001b[32m[I 2023-03-05 17:08:05,055]\u001b[0m Trial 54 finished with value: 0.9144487977027893 and parameters: {'filters_1': 32, 'kernel_size_1': (5, 5), 'filters_2': 32, 'kernel_size_2': (5, 5), 'filters_3': 128, 'kernel_size_3': (3, 3), 'filters_4': 32, 'kernel_size_4': (3, 3), 'filters_5': 64, 'kernel_size_5': (3, 3), 'filters_6': 128, 'kernel_size_6': (3, 3), 'units_1': 96, 'units_2': 121, 'learning_rate': 0.00017521246094507996}. Best is trial 22 with value: 0.7808023691177368.\u001b[0m\n",
            "\u001b[32m[I 2023-03-05 17:08:27,732]\u001b[0m Trial 55 finished with value: 0.8044072985649109 and parameters: {'filters_1': 32, 'kernel_size_1': (5, 5), 'filters_2': 32, 'kernel_size_2': (5, 5), 'filters_3': 128, 'kernel_size_3': (5, 5), 'filters_4': 32, 'kernel_size_4': (3, 3), 'filters_5': 64, 'kernel_size_5': (3, 3), 'filters_6': 64, 'kernel_size_6': (3, 3), 'units_1': 107, 'units_2': 128, 'learning_rate': 6.333373566811545e-05}. Best is trial 22 with value: 0.7808023691177368.\u001b[0m\n",
            "\u001b[32m[I 2023-03-05 17:08:50,411]\u001b[0m Trial 56 finished with value: 0.8362213969230652 and parameters: {'filters_1': 32, 'kernel_size_1': (5, 5), 'filters_2': 32, 'kernel_size_2': (5, 5), 'filters_3': 128, 'kernel_size_3': (3, 3), 'filters_4': 32, 'kernel_size_4': (3, 3), 'filters_5': 32, 'kernel_size_5': (3, 3), 'filters_6': 64, 'kernel_size_6': (3, 3), 'units_1': 101, 'units_2': 118, 'learning_rate': 0.0002846127595171614}. Best is trial 22 with value: 0.7808023691177368.\u001b[0m\n",
            "\u001b[32m[I 2023-03-05 17:09:06,334]\u001b[0m Trial 57 finished with value: 0.8174997568130493 and parameters: {'filters_1': 32, 'kernel_size_1': (5, 5), 'filters_2': 32, 'kernel_size_2': (5, 5), 'filters_3': 32, 'kernel_size_3': (3, 3), 'filters_4': 32, 'kernel_size_4': (3, 3), 'filters_5': 64, 'kernel_size_5': (3, 3), 'filters_6': 64, 'kernel_size_6': (5, 5), 'units_1': 87, 'units_2': 101, 'learning_rate': 0.00014984595202998066}. Best is trial 22 with value: 0.7808023691177368.\u001b[0m\n",
            "\u001b[32m[I 2023-03-05 17:09:31,681]\u001b[0m Trial 58 finished with value: 0.9509357810020447 and parameters: {'filters_1': 32, 'kernel_size_1': (5, 5), 'filters_2': 64, 'kernel_size_2': (5, 5), 'filters_3': 128, 'kernel_size_3': (3, 3), 'filters_4': 32, 'kernel_size_4': (3, 3), 'filters_5': 64, 'kernel_size_5': (5, 5), 'filters_6': 64, 'kernel_size_6': (3, 3), 'units_1': 125, 'units_2': 125, 'learning_rate': 8.596491563160554e-05}. Best is trial 22 with value: 0.7808023691177368.\u001b[0m\n",
            "\u001b[32m[I 2023-03-05 17:09:54,348]\u001b[0m Trial 59 finished with value: 0.8816701769828796 and parameters: {'filters_1': 32, 'kernel_size_1': (5, 5), 'filters_2': 32, 'kernel_size_2': (5, 5), 'filters_3': 64, 'kernel_size_3': (5, 5), 'filters_4': 32, 'kernel_size_4': (3, 3), 'filters_5': 128, 'kernel_size_5': (3, 3), 'filters_6': 128, 'kernel_size_6': (3, 3), 'units_1': 92, 'units_2': 67, 'learning_rate': 0.00022632950099611227}. Best is trial 22 with value: 0.7808023691177368.\u001b[0m\n",
            "\u001b[32m[I 2023-03-05 17:10:17,935]\u001b[0m Trial 60 finished with value: 0.8572923541069031 and parameters: {'filters_1': 32, 'kernel_size_1': (5, 5), 'filters_2': 32, 'kernel_size_2': (5, 5), 'filters_3': 128, 'kernel_size_3': (3, 3), 'filters_4': 32, 'kernel_size_4': (3, 3), 'filters_5': 64, 'kernel_size_5': (3, 3), 'filters_6': 64, 'kernel_size_6': (3, 3), 'units_1': 108, 'units_2': 93, 'learning_rate': 0.0003848394384251284}. Best is trial 22 with value: 0.7808023691177368.\u001b[0m\n",
            "\u001b[32m[I 2023-03-05 17:10:41,050]\u001b[0m Trial 61 finished with value: 0.8173009753227234 and parameters: {'filters_1': 32, 'kernel_size_1': (5, 5), 'filters_2': 32, 'kernel_size_2': (5, 5), 'filters_3': 128, 'kernel_size_3': (3, 3), 'filters_4': 32, 'kernel_size_4': (3, 3), 'filters_5': 64, 'kernel_size_5': (3, 3), 'filters_6': 64, 'kernel_size_6': (3, 3), 'units_1': 114, 'units_2': 111, 'learning_rate': 0.0001055368629449839}. Best is trial 22 with value: 0.7808023691177368.\u001b[0m\n",
            "\u001b[32m[I 2023-03-05 17:11:00,167]\u001b[0m Trial 62 finished with value: 0.8231031894683838 and parameters: {'filters_1': 32, 'kernel_size_1': (5, 5), 'filters_2': 32, 'kernel_size_2': (5, 5), 'filters_3': 128, 'kernel_size_3': (3, 3), 'filters_4': 32, 'kernel_size_4': (3, 3), 'filters_5': 64, 'kernel_size_5': (3, 3), 'filters_6': 64, 'kernel_size_6': (3, 3), 'units_1': 119, 'units_2': 108, 'learning_rate': 0.00013604274045073839}. Best is trial 22 with value: 0.7808023691177368.\u001b[0m\n",
            "\u001b[32m[I 2023-03-05 17:11:22,889]\u001b[0m Trial 63 finished with value: 0.8253910541534424 and parameters: {'filters_1': 32, 'kernel_size_1': (5, 5), 'filters_2': 32, 'kernel_size_2': (5, 5), 'filters_3': 128, 'kernel_size_3': (3, 3), 'filters_4': 32, 'kernel_size_4': (3, 3), 'filters_5': 64, 'kernel_size_5': (3, 3), 'filters_6': 64, 'kernel_size_6': (3, 3), 'units_1': 105, 'units_2': 111, 'learning_rate': 8.899149702749539e-05}. Best is trial 22 with value: 0.7808023691177368.\u001b[0m\n",
            "\u001b[32m[I 2023-03-05 17:11:40,716]\u001b[0m Trial 64 finished with value: 0.8264813423156738 and parameters: {'filters_1': 32, 'kernel_size_1': (5, 5), 'filters_2': 32, 'kernel_size_2': (5, 5), 'filters_3': 128, 'kernel_size_3': (3, 3), 'filters_4': 32, 'kernel_size_4': (3, 3), 'filters_5': 64, 'kernel_size_5': (3, 3), 'filters_6': 64, 'kernel_size_6': (3, 3), 'units_1': 112, 'units_2': 98, 'learning_rate': 0.00017987596685265514}. Best is trial 22 with value: 0.7808023691177368.\u001b[0m\n",
            "\u001b[32m[I 2023-03-05 17:12:03,395]\u001b[0m Trial 65 finished with value: 0.7846662998199463 and parameters: {'filters_1': 32, 'kernel_size_1': (5, 5), 'filters_2': 32, 'kernel_size_2': (5, 5), 'filters_3': 128, 'kernel_size_3': (3, 3), 'filters_4': 32, 'kernel_size_4': (3, 3), 'filters_5': 64, 'kernel_size_5': (3, 3), 'filters_6': 64, 'kernel_size_6': (3, 3), 'units_1': 114, 'units_2': 117, 'learning_rate': 5.410029416884393e-05}. Best is trial 22 with value: 0.7808023691177368.\u001b[0m\n",
            "\u001b[32m[I 2023-03-05 17:12:21,530]\u001b[0m Trial 66 finished with value: 0.819740891456604 and parameters: {'filters_1': 32, 'kernel_size_1': (5, 5), 'filters_2': 32, 'kernel_size_2': (5, 5), 'filters_3': 128, 'kernel_size_3': (3, 3), 'filters_4': 32, 'kernel_size_4': (3, 3), 'filters_5': 64, 'kernel_size_5': (5, 5), 'filters_6': 64, 'kernel_size_6': (3, 3), 'units_1': 97, 'units_2': 120, 'learning_rate': 3.311035543829997e-05}. Best is trial 22 with value: 0.7808023691177368.\u001b[0m\n",
            "\u001b[32m[I 2023-03-05 17:12:45,855]\u001b[0m Trial 67 finished with value: 0.8637844324111938 and parameters: {'filters_1': 32, 'kernel_size_1': (5, 5), 'filters_2': 32, 'kernel_size_2': (5, 5), 'filters_3': 128, 'kernel_size_3': (3, 3), 'filters_4': 32, 'kernel_size_4': (3, 3), 'filters_5': 64, 'kernel_size_5': (3, 3), 'filters_6': 64, 'kernel_size_6': (3, 3), 'units_1': 103, 'units_2': 114, 'learning_rate': 5.350527183531987e-05}. Best is trial 22 with value: 0.7808023691177368.\u001b[0m\n",
            "\u001b[32m[I 2023-03-05 17:13:08,501]\u001b[0m Trial 68 finished with value: 0.8120350241661072 and parameters: {'filters_1': 32, 'kernel_size_1': (5, 5), 'filters_2': 32, 'kernel_size_2': (3, 3), 'filters_3': 128, 'kernel_size_3': (5, 5), 'filters_4': 128, 'kernel_size_4': (3, 3), 'filters_5': 64, 'kernel_size_5': (3, 3), 'filters_6': 64, 'kernel_size_6': (3, 3), 'units_1': 109, 'units_2': 124, 'learning_rate': 3.860790957496567e-05}. Best is trial 22 with value: 0.7808023691177368.\u001b[0m\n",
            "\u001b[32m[I 2023-03-05 17:14:32,637]\u001b[0m Trial 69 finished with value: 0.8568260669708252 and parameters: {'filters_1': 128, 'kernel_size_1': (3, 3), 'filters_2': 128, 'kernel_size_2': (3, 3), 'filters_3': 128, 'kernel_size_3': (3, 3), 'filters_4': 32, 'kernel_size_4': (5, 5), 'filters_5': 32, 'kernel_size_5': (3, 3), 'filters_6': 64, 'kernel_size_6': (3, 3), 'units_1': 120, 'units_2': 118, 'learning_rate': 6.005575545051668e-05}. Best is trial 22 with value: 0.7808023691177368.\u001b[0m\n",
            "\u001b[32m[I 2023-03-05 17:14:51,240]\u001b[0m Trial 70 finished with value: 0.8236747980117798 and parameters: {'filters_1': 32, 'kernel_size_1': (3, 3), 'filters_2': 32, 'kernel_size_2': (5, 5), 'filters_3': 32, 'kernel_size_3': (3, 3), 'filters_4': 128, 'kernel_size_4': (3, 3), 'filters_5': 64, 'kernel_size_5': (5, 5), 'filters_6': 128, 'kernel_size_6': (3, 3), 'units_1': 116, 'units_2': 105, 'learning_rate': 2.199330669856745e-05}. Best is trial 22 with value: 0.7808023691177368.\u001b[0m\n",
            "\u001b[32m[I 2023-03-05 17:15:09,914]\u001b[0m Trial 71 finished with value: 0.8139423727989197 and parameters: {'filters_1': 32, 'kernel_size_1': (5, 5), 'filters_2': 32, 'kernel_size_2': (5, 5), 'filters_3': 128, 'kernel_size_3': (3, 3), 'filters_4': 32, 'kernel_size_4': (3, 3), 'filters_5': 64, 'kernel_size_5': (3, 3), 'filters_6': 64, 'kernel_size_6': (3, 3), 'units_1': 113, 'units_2': 109, 'learning_rate': 9.460089122961364e-05}. Best is trial 22 with value: 0.7808023691177368.\u001b[0m\n",
            "\u001b[32m[I 2023-03-05 17:15:27,715]\u001b[0m Trial 72 finished with value: 0.8059293627738953 and parameters: {'filters_1': 32, 'kernel_size_1': (5, 5), 'filters_2': 32, 'kernel_size_2': (5, 5), 'filters_3': 128, 'kernel_size_3': (3, 3), 'filters_4': 32, 'kernel_size_4': (3, 3), 'filters_5': 64, 'kernel_size_5': (3, 3), 'filters_6': 64, 'kernel_size_6': (3, 3), 'units_1': 106, 'units_2': 103, 'learning_rate': 0.00011537199447534951}. Best is trial 22 with value: 0.7808023691177368.\u001b[0m\n",
            "\u001b[32m[I 2023-03-05 17:15:45,839]\u001b[0m Trial 73 finished with value: 0.8194555640220642 and parameters: {'filters_1': 32, 'kernel_size_1': (5, 5), 'filters_2': 32, 'kernel_size_2': (5, 5), 'filters_3': 128, 'kernel_size_3': (3, 3), 'filters_4': 32, 'kernel_size_4': (3, 3), 'filters_5': 64, 'kernel_size_5': (3, 3), 'filters_6': 64, 'kernel_size_6': (3, 3), 'units_1': 110, 'units_2': 29, 'learning_rate': 6.823746075279202e-05}. Best is trial 22 with value: 0.7808023691177368.\u001b[0m\n",
            "\u001b[32m[I 2023-03-05 17:16:10,018]\u001b[0m Trial 74 finished with value: 0.844829261302948 and parameters: {'filters_1': 32, 'kernel_size_1': (5, 5), 'filters_2': 32, 'kernel_size_2': (5, 5), 'filters_3': 128, 'kernel_size_3': (3, 3), 'filters_4': 32, 'kernel_size_4': (3, 3), 'filters_5': 64, 'kernel_size_5': (3, 3), 'filters_6': 64, 'kernel_size_6': (3, 3), 'units_1': 100, 'units_2': 116, 'learning_rate': 4.870700929275902e-05}. Best is trial 22 with value: 0.7808023691177368.\u001b[0m\n",
            "\u001b[32m[I 2023-03-05 17:16:27,969]\u001b[0m Trial 75 finished with value: 0.833379864692688 and parameters: {'filters_1': 32, 'kernel_size_1': (5, 5), 'filters_2': 32, 'kernel_size_2': (3, 3), 'filters_3': 128, 'kernel_size_3': (3, 3), 'filters_4': 32, 'kernel_size_4': (3, 3), 'filters_5': 64, 'kernel_size_5': (3, 3), 'filters_6': 64, 'kernel_size_6': (3, 3), 'units_1': 124, 'units_2': 98, 'learning_rate': 3.2227071127766324e-05}. Best is trial 22 with value: 0.7808023691177368.\u001b[0m\n",
            "\u001b[32m[I 2023-03-05 17:17:11,222]\u001b[0m Trial 76 finished with value: 0.8585558533668518 and parameters: {'filters_1': 32, 'kernel_size_1': (3, 3), 'filters_2': 64, 'kernel_size_2': (5, 5), 'filters_3': 128, 'kernel_size_3': (3, 3), 'filters_4': 128, 'kernel_size_4': (3, 3), 'filters_5': 64, 'kernel_size_5': (3, 3), 'filters_6': 32, 'kernel_size_6': (5, 5), 'units_1': 114, 'units_2': 125, 'learning_rate': 7.774199118582801e-05}. Best is trial 22 with value: 0.7808023691177368.\u001b[0m\n",
            "\u001b[32m[I 2023-03-05 17:17:28,891]\u001b[0m Trial 77 finished with value: 0.8282901644706726 and parameters: {'filters_1': 32, 'kernel_size_1': (5, 5), 'filters_2': 32, 'kernel_size_2': (3, 3), 'filters_3': 64, 'kernel_size_3': (3, 3), 'filters_4': 64, 'kernel_size_4': (3, 3), 'filters_5': 128, 'kernel_size_5': (3, 3), 'filters_6': 64, 'kernel_size_6': (3, 3), 'units_1': 93, 'units_2': 113, 'learning_rate': 0.00015548281456940165}. Best is trial 22 with value: 0.7808023691177368.\u001b[0m\n",
            "\u001b[32m[I 2023-03-05 17:17:52,017]\u001b[0m Trial 78 finished with value: 0.8114926815032959 and parameters: {'filters_1': 32, 'kernel_size_1': (3, 3), 'filters_2': 32, 'kernel_size_2': (3, 3), 'filters_3': 128, 'kernel_size_3': (3, 3), 'filters_4': 128, 'kernel_size_4': (3, 3), 'filters_5': 64, 'kernel_size_5': (3, 3), 'filters_6': 64, 'kernel_size_6': (3, 3), 'units_1': 104, 'units_2': 77, 'learning_rate': 0.00011021170719951299}. Best is trial 22 with value: 0.7808023691177368.\u001b[0m\n",
            "\u001b[32m[I 2023-03-05 17:18:15,250]\u001b[0m Trial 79 finished with value: 0.8099889755249023 and parameters: {'filters_1': 32, 'kernel_size_1': (3, 3), 'filters_2': 32, 'kernel_size_2': (5, 5), 'filters_3': 128, 'kernel_size_3': (3, 3), 'filters_4': 32, 'kernel_size_4': (3, 3), 'filters_5': 64, 'kernel_size_5': (5, 5), 'filters_6': 64, 'kernel_size_6': (3, 3), 'units_1': 128, 'units_2': 70, 'learning_rate': 5.056100473364235e-05}. Best is trial 22 with value: 0.7808023691177368.\u001b[0m\n",
            "\u001b[32m[I 2023-03-05 17:18:58,395]\u001b[0m Trial 80 finished with value: 0.8234497308731079 and parameters: {'filters_1': 128, 'kernel_size_1': (5, 5), 'filters_2': 32, 'kernel_size_2': (3, 3), 'filters_3': 128, 'kernel_size_3': (5, 5), 'filters_4': 128, 'kernel_size_4': (5, 5), 'filters_5': 64, 'kernel_size_5': (3, 3), 'filters_6': 64, 'kernel_size_6': (3, 3), 'units_1': 118, 'units_2': 94, 'learning_rate': 0.00020653839623955693}. Best is trial 22 with value: 0.7808023691177368.\u001b[0m\n",
            "\u001b[32m[I 2023-03-05 17:19:42,830]\u001b[0m Trial 81 finished with value: 0.8145020008087158 and parameters: {'filters_1': 64, 'kernel_size_1': (3, 3), 'filters_2': 32, 'kernel_size_2': (3, 3), 'filters_3': 128, 'kernel_size_3': (3, 3), 'filters_4': 128, 'kernel_size_4': (3, 3), 'filters_5': 64, 'kernel_size_5': (3, 3), 'filters_6': 64, 'kernel_size_6': (3, 3), 'units_1': 110, 'units_2': 119, 'learning_rate': 2.7768268989586938e-05}. Best is trial 22 with value: 0.7808023691177368.\u001b[0m\n",
            "\u001b[32m[I 2023-03-05 17:20:26,085]\u001b[0m Trial 82 finished with value: 0.8181877136230469 and parameters: {'filters_1': 64, 'kernel_size_1': (3, 3), 'filters_2': 32, 'kernel_size_2': (3, 3), 'filters_3': 128, 'kernel_size_3': (3, 3), 'filters_4': 128, 'kernel_size_4': (3, 3), 'filters_5': 64, 'kernel_size_5': (3, 3), 'filters_6': 64, 'kernel_size_6': (3, 3), 'units_1': 121, 'units_2': 110, 'learning_rate': 4.0019859472065076e-05}. Best is trial 22 with value: 0.7808023691177368.\u001b[0m\n",
            "\u001b[32m[I 2023-03-05 17:21:09,313]\u001b[0m Trial 83 finished with value: 0.8456346392631531 and parameters: {'filters_1': 64, 'kernel_size_1': (3, 3), 'filters_2': 32, 'kernel_size_2': (3, 3), 'filters_3': 128, 'kernel_size_3': (3, 3), 'filters_4': 128, 'kernel_size_4': (3, 3), 'filters_5': 64, 'kernel_size_5': (3, 3), 'filters_6': 64, 'kernel_size_6': (3, 3), 'units_1': 114, 'units_2': 107, 'learning_rate': 2.1779721562410478e-05}. Best is trial 22 with value: 0.7808023691177368.\u001b[0m\n",
            "\u001b[32m[I 2023-03-05 17:21:32,422]\u001b[0m Trial 84 finished with value: 0.8160727024078369 and parameters: {'filters_1': 64, 'kernel_size_1': (3, 3), 'filters_2': 32, 'kernel_size_2': (3, 3), 'filters_3': 128, 'kernel_size_3': (3, 3), 'filters_4': 128, 'kernel_size_4': (3, 3), 'filters_5': 64, 'kernel_size_5': (3, 3), 'filters_6': 64, 'kernel_size_6': (3, 3), 'units_1': 101, 'units_2': 89, 'learning_rate': 7.856841868553788e-05}. Best is trial 22 with value: 0.7808023691177368.\u001b[0m\n",
            "\u001b[32m[I 2023-03-05 17:22:15,562]\u001b[0m Trial 85 finished with value: 0.8053029179573059 and parameters: {'filters_1': 32, 'kernel_size_1': (3, 3), 'filters_2': 128, 'kernel_size_2': (3, 3), 'filters_3': 128, 'kernel_size_3': (3, 3), 'filters_4': 128, 'kernel_size_4': (3, 3), 'filters_5': 64, 'kernel_size_5': (3, 3), 'filters_6': 64, 'kernel_size_6': (3, 3), 'units_1': 111, 'units_2': 114, 'learning_rate': 6.459552166970498e-05}. Best is trial 22 with value: 0.7808023691177368.\u001b[0m\n",
            "\u001b[32m[I 2023-03-05 17:22:39,046]\u001b[0m Trial 86 finished with value: 0.7960434556007385 and parameters: {'filters_1': 32, 'kernel_size_1': (3, 3), 'filters_2': 32, 'kernel_size_2': (3, 3), 'filters_3': 128, 'kernel_size_3': (3, 3), 'filters_4': 128, 'kernel_size_4': (3, 3), 'filters_5': 32, 'kernel_size_5': (3, 3), 'filters_6': 64, 'kernel_size_6': (3, 3), 'units_1': 116, 'units_2': 100, 'learning_rate': 2.9471386638509294e-05}. Best is trial 22 with value: 0.7808023691177368.\u001b[0m\n",
            "\u001b[32m[I 2023-03-05 17:22:53,489]\u001b[0m Trial 87 finished with value: 0.8174633979797363 and parameters: {'filters_1': 32, 'kernel_size_1': (3, 3), 'filters_2': 32, 'kernel_size_2': (3, 3), 'filters_3': 32, 'kernel_size_3': (3, 3), 'filters_4': 32, 'kernel_size_4': (3, 3), 'filters_5': 32, 'kernel_size_5': (3, 3), 'filters_6': 32, 'kernel_size_6': (5, 5), 'units_1': 125, 'units_2': 101, 'learning_rate': 3.362295209576006e-05}. Best is trial 22 with value: 0.7808023691177368.\u001b[0m\n",
            "\u001b[32m[I 2023-03-05 17:23:17,967]\u001b[0m Trial 88 finished with value: 0.8944529294967651 and parameters: {'filters_1': 32, 'kernel_size_1': (3, 3), 'filters_2': 32, 'kernel_size_2': (5, 5), 'filters_3': 128, 'kernel_size_3': (3, 3), 'filters_4': 64, 'kernel_size_4': (3, 3), 'filters_5': 32, 'kernel_size_5': (5, 5), 'filters_6': 64, 'kernel_size_6': (3, 3), 'units_1': 116, 'units_2': 104, 'learning_rate': 4.763826737078524e-05}. Best is trial 22 with value: 0.7808023691177368.\u001b[0m\n",
            "\u001b[32m[I 2023-03-05 17:23:42,739]\u001b[0m Trial 89 finished with value: 0.8638111352920532 and parameters: {'filters_1': 32, 'kernel_size_1': (5, 5), 'filters_2': 64, 'kernel_size_2': (3, 3), 'filters_3': 128, 'kernel_size_3': (3, 3), 'filters_4': 128, 'kernel_size_4': (3, 3), 'filters_5': 32, 'kernel_size_5': (3, 3), 'filters_6': 64, 'kernel_size_6': (3, 3), 'units_1': 107, 'units_2': 90, 'learning_rate': 1.3078093703448386e-05}. Best is trial 22 with value: 0.7808023691177368.\u001b[0m\n",
            "\u001b[32m[I 2023-03-05 17:23:58,043]\u001b[0m Trial 90 finished with value: 0.791682243347168 and parameters: {'filters_1': 32, 'kernel_size_1': (3, 3), 'filters_2': 32, 'kernel_size_2': (3, 3), 'filters_3': 64, 'kernel_size_3': (3, 3), 'filters_4': 32, 'kernel_size_4': (3, 3), 'filters_5': 32, 'kernel_size_5': (3, 3), 'filters_6': 128, 'kernel_size_6': (3, 3), 'units_1': 121, 'units_2': 85, 'learning_rate': 2.4256730712416156e-05}. Best is trial 22 with value: 0.7808023691177368.\u001b[0m\n",
            "\u001b[32m[I 2023-03-05 17:24:21,519]\u001b[0m Trial 91 finished with value: 0.777937114238739 and parameters: {'filters_1': 32, 'kernel_size_1': (3, 3), 'filters_2': 32, 'kernel_size_2': (3, 3), 'filters_3': 64, 'kernel_size_3': (3, 3), 'filters_4': 32, 'kernel_size_4': (3, 3), 'filters_5': 32, 'kernel_size_5': (3, 3), 'filters_6': 128, 'kernel_size_6': (3, 3), 'units_1': 122, 'units_2': 82, 'learning_rate': 6.0677269507301427e-05}. Best is trial 91 with value: 0.777937114238739.\u001b[0m\n",
            "\u001b[32m[I 2023-03-05 17:24:44,199]\u001b[0m Trial 92 finished with value: 0.7717055082321167 and parameters: {'filters_1': 32, 'kernel_size_1': (3, 3), 'filters_2': 32, 'kernel_size_2': (3, 3), 'filters_3': 64, 'kernel_size_3': (3, 3), 'filters_4': 32, 'kernel_size_4': (3, 3), 'filters_5': 32, 'kernel_size_5': (3, 3), 'filters_6': 128, 'kernel_size_6': (3, 3), 'units_1': 121, 'units_2': 83, 'learning_rate': 2.5633565279583037e-05}. Best is trial 92 with value: 0.7717055082321167.\u001b[0m\n",
            "\u001b[32m[I 2023-03-05 17:24:59,019]\u001b[0m Trial 93 finished with value: 0.8189454078674316 and parameters: {'filters_1': 32, 'kernel_size_1': (3, 3), 'filters_2': 32, 'kernel_size_2': (3, 3), 'filters_3': 64, 'kernel_size_3': (3, 3), 'filters_4': 32, 'kernel_size_4': (3, 3), 'filters_5': 32, 'kernel_size_5': (3, 3), 'filters_6': 128, 'kernel_size_6': (3, 3), 'units_1': 121, 'units_2': 84, 'learning_rate': 2.0027363644192097e-05}. Best is trial 92 with value: 0.7717055082321167.\u001b[0m\n",
            "\u001b[32m[I 2023-03-05 17:25:21,652]\u001b[0m Trial 94 finished with value: 0.8029249310493469 and parameters: {'filters_1': 32, 'kernel_size_1': (3, 3), 'filters_2': 32, 'kernel_size_2': (3, 3), 'filters_3': 64, 'kernel_size_3': (3, 3), 'filters_4': 32, 'kernel_size_4': (3, 3), 'filters_5': 32, 'kernel_size_5': (3, 3), 'filters_6': 128, 'kernel_size_6': (3, 3), 'units_1': 125, 'units_2': 79, 'learning_rate': 2.6342380670238146e-05}. Best is trial 92 with value: 0.7717055082321167.\u001b[0m\n",
            "\u001b[32m[I 2023-03-05 17:25:45,375]\u001b[0m Trial 95 finished with value: 0.8189460039138794 and parameters: {'filters_1': 32, 'kernel_size_1': (3, 3), 'filters_2': 32, 'kernel_size_2': (3, 3), 'filters_3': 64, 'kernel_size_3': (3, 3), 'filters_4': 32, 'kernel_size_4': (3, 3), 'filters_5': 32, 'kernel_size_5': (3, 3), 'filters_6': 128, 'kernel_size_6': (3, 3), 'units_1': 117, 'units_2': 80, 'learning_rate': 1.3775582025948673e-05}. Best is trial 92 with value: 0.7717055082321167.\u001b[0m\n",
            "\u001b[32m[I 2023-03-05 17:26:08,192]\u001b[0m Trial 96 finished with value: 0.7988678812980652 and parameters: {'filters_1': 32, 'kernel_size_1': (3, 3), 'filters_2': 32, 'kernel_size_2': (3, 3), 'filters_3': 64, 'kernel_size_3': (3, 3), 'filters_4': 128, 'kernel_size_4': (3, 3), 'filters_5': 32, 'kernel_size_5': (3, 3), 'filters_6': 128, 'kernel_size_6': (3, 3), 'units_1': 120, 'units_2': 87, 'learning_rate': 1.822789026572585e-05}. Best is trial 92 with value: 0.7717055082321167.\u001b[0m\n",
            "\u001b[32m[I 2023-03-05 17:26:30,917]\u001b[0m Trial 97 finished with value: 0.8454927802085876 and parameters: {'filters_1': 32, 'kernel_size_1': (3, 3), 'filters_2': 32, 'kernel_size_2': (3, 3), 'filters_3': 64, 'kernel_size_3': (3, 3), 'filters_4': 32, 'kernel_size_4': (5, 5), 'filters_5': 32, 'kernel_size_5': (3, 3), 'filters_6': 128, 'kernel_size_6': (3, 3), 'units_1': 122, 'units_2': 84, 'learning_rate': 2.4563012439465407e-05}. Best is trial 92 with value: 0.7717055082321167.\u001b[0m\n",
            "\u001b[32m[I 2023-03-05 17:26:53,624]\u001b[0m Trial 98 finished with value: 0.8689172267913818 and parameters: {'filters_1': 32, 'kernel_size_1': (3, 3), 'filters_2': 32, 'kernel_size_2': (3, 3), 'filters_3': 64, 'kernel_size_3': (3, 3), 'filters_4': 32, 'kernel_size_4': (3, 3), 'filters_5': 32, 'kernel_size_5': (5, 5), 'filters_6': 128, 'kernel_size_6': (3, 3), 'units_1': 53, 'units_2': 72, 'learning_rate': 3.251282251100294e-05}. Best is trial 92 with value: 0.7717055082321167.\u001b[0m\n",
            "\u001b[32m[I 2023-03-05 17:27:17,106]\u001b[0m Trial 99 finished with value: 0.7944718599319458 and parameters: {'filters_1': 32, 'kernel_size_1': (3, 3), 'filters_2': 32, 'kernel_size_2': (3, 3), 'filters_3': 64, 'kernel_size_3': (3, 3), 'filters_4': 128, 'kernel_size_4': (3, 3), 'filters_5': 32, 'kernel_size_5': (3, 3), 'filters_6': 128, 'kernel_size_6': (3, 3), 'units_1': 127, 'units_2': 82, 'learning_rate': 4.194039937028893e-05}. Best is trial 92 with value: 0.7717055082321167.\u001b[0m\n"
          ]
        },
        {
          "name": "stdout",
          "output_type": "stream",
          "text": [
            "Best hyperparameters: {'filters_1': 32, 'kernel_size_1': (3, 3), 'filters_2': 32, 'kernel_size_2': (3, 3), 'filters_3': 64, 'kernel_size_3': (3, 3), 'filters_4': 32, 'kernel_size_4': (3, 3), 'filters_5': 32, 'kernel_size_5': (3, 3), 'filters_6': 128, 'kernel_size_6': (3, 3), 'units_1': 121, 'units_2': 83, 'learning_rate': 2.5633565279583037e-05}\n",
            "Epoch 1/10\n",
            "40/40 [==============================] - 6s 66ms/step - loss: 1.2854 - accuracy: 0.4575 - val_loss: 1.1274 - val_accuracy: 0.6090\n",
            "Epoch 2/10\n",
            "40/40 [==============================] - 2s 56ms/step - loss: 0.9198 - accuracy: 0.6685 - val_loss: 0.8625 - val_accuracy: 0.6635\n",
            "Epoch 3/10\n",
            "40/40 [==============================] - 2s 53ms/step - loss: 0.7447 - accuracy: 0.7079 - val_loss: 0.8347 - val_accuracy: 0.6896\n",
            "Epoch 4/10\n",
            "40/40 [==============================] - 2s 56ms/step - loss: 0.6778 - accuracy: 0.7268 - val_loss: 0.8114 - val_accuracy: 0.6825\n",
            "Epoch 5/10\n",
            "40/40 [==============================] - 2s 54ms/step - loss: 0.6443 - accuracy: 0.7425 - val_loss: 0.7808 - val_accuracy: 0.7156\n",
            "Epoch 6/10\n",
            "40/40 [==============================] - 2s 56ms/step - loss: 0.6138 - accuracy: 0.7472 - val_loss: 0.7637 - val_accuracy: 0.7204\n",
            "Epoch 7/10\n",
            "40/40 [==============================] - 2s 56ms/step - loss: 0.5979 - accuracy: 0.7543 - val_loss: 0.7597 - val_accuracy: 0.7346\n",
            "Epoch 8/10\n",
            "40/40 [==============================] - 2s 53ms/step - loss: 0.5741 - accuracy: 0.7740 - val_loss: 0.7628 - val_accuracy: 0.7299\n",
            "Epoch 9/10\n",
            "40/40 [==============================] - 2s 53ms/step - loss: 0.5366 - accuracy: 0.7827 - val_loss: 0.7768 - val_accuracy: 0.7299\n",
            "Epoch 10/10\n",
            "40/40 [==============================] - 2s 53ms/step - loss: 0.5343 - accuracy: 0.7890 - val_loss: 0.7701 - val_accuracy: 0.7275\n"
          ]
        }
      ],
      "source": [
        "\n",
        "import optuna\n",
        "import tensorflow as tf\n",
        "from tensorflow import keras\n",
        "\n",
        "def create_model(trial):\n",
        "    model = keras.Sequential([\n",
        "        # Convolutional layers\n",
        "        keras.layers.Conv2D(\n",
        "            filters=trial.suggest_categorical('filters_1', [32, 64, 128]),\n",
        "            kernel_size=trial.suggest_categorical('kernel_size_1', [(3, 3), (5, 5)]),\n",
        "            activation='relu',\n",
        "            input_shape=(156, 156, 3)\n",
        "        ),\n",
        "        keras.layers.Conv2D(\n",
        "            filters=trial.suggest_categorical('filters_2', [32, 64, 128]),\n",
        "            kernel_size=trial.suggest_categorical('kernel_size_2', [(3, 3), (5, 5)]),\n",
        "            activation='relu'\n",
        "        ),\n",
        "        keras.layers.MaxPooling2D(pool_size=(2, 2)),\n",
        "        keras.layers.Conv2D(\n",
        "            filters=trial.suggest_categorical('filters_3', [32, 64, 128]),\n",
        "            kernel_size=trial.suggest_categorical('kernel_size_3', [(3, 3), (5, 5)]),\n",
        "            activation='relu'\n",
        "        ),\n",
        "        keras.layers.Conv2D(\n",
        "            filters=trial.suggest_categorical('filters_4', [32, 64, 128]),\n",
        "            kernel_size=trial.suggest_categorical('kernel_size_4', [(3, 3), (5, 5)]),\n",
        "            activation='relu'\n",
        "        ),\n",
        "        keras.layers.MaxPooling2D(pool_size=(2, 2)),\n",
        "        keras.layers.Conv2D(\n",
        "            filters=trial.suggest_categorical('filters_5', [32, 64, 128]),\n",
        "            kernel_size=trial.suggest_categorical('kernel_size_5', [(3, 3), (5, 5)]),\n",
        "            activation='relu'\n",
        "        ),\n",
        "        keras.layers.Conv2D(\n",
        "            filters=trial.suggest_categorical('filters_6', [32, 64, 128]),\n",
        "            kernel_size=trial.suggest_categorical('kernel_size_6', [(3, 3), (5, 5)]),\n",
        "            activation='relu'\n",
        "        ),\n",
        "        keras.layers.MaxPooling2D(pool_size=(2, 2)),\n",
        "        # Dense layers\n",
        "        keras.layers.Flatten(),\n",
        "        keras.layers.Dense(units=trial.suggest_int('units_1', 16, 128), activation='relu'),\n",
        "        keras.layers.Dense(units=trial.suggest_int('units_2', 16, 128), activation='relu'),\n",
        "        keras.layers.Dense(units=4, activation='softmax')\n",
        "    ])\n",
        "\n",
        "    # Compile the model with appropriate loss function, optimizer, and metrics\n",
        "    model.compile(\n",
        "        loss='categorical_crossentropy',\n",
        "        optimizer=keras.optimizers.Adam(\n",
        "            learning_rate=trial.suggest_float('learning_rate', 1e-5, 1e-1, log=True)\n",
        "        ),\n",
        "        metrics=['accuracy']\n",
        "    )\n",
        "    \n",
        "    return model\n",
        "\n",
        "def objective(trial):\n",
        "    # Create the model with the hyperparameters suggested by Optuna\n",
        "    model = create_model(trial)\n",
        "    \n",
        "    # Train the model for 5 epochs\n",
        "    history = model.fit(\n",
        "        X_train_norm,\n",
        "        y_train_onehot,\n",
        "        batch_size=32,\n",
        "        epochs=5,\n",
        "        validation_data=(X_val_norm, y_val_onehot),\n",
        "        verbose=0\n",
        "    )\n",
        "    \n",
        "    # Evaluate the model\n",
        "    loss = history.history['val_loss'][-1]\n",
        "    return loss\n",
        "\n",
        "# Define the study\n",
        "study = optuna.create_study(direction='minimize')\n",
        "\n",
        "# Start the optimization process\n",
        "study.optimize(objective, n_trials=100)\n",
        "\n",
        "# Print the best hyperparameters found by Optuna\n",
        "print(f'Best hyperparameters: {study.best_params}')\n",
        "\n",
        "# Create the best model\n",
        "best_model = create_model(study.best_trial)\n",
        "\n",
        "# Train the best model for 10 epochs\n",
        "best_history = best_model.fit(\n",
        "    X_train_norm,\n",
        "    y_train_onehot,\n",
        "    batch_size=32,\n",
        "    epochs=10,\n",
        "    validation_data=(X_val_norm, y_val_onehot)\n",
        ")\n",
        "\n"
      ]
    },
    {
      "cell_type": "code",
      "execution_count": null,
      "metadata": {
        "colab": {
          "base_uri": "https://localhost:8080/",
          "height": 252
        },
        "id": "HjFyARqv98wz",
        "outputId": "5ecfae7b-4722-4d9e-8f85-21ab478831fc"
      },
      "outputs": [
        {
          "name": "stdout",
          "output_type": "stream",
          "text": [
            "Training model 1...\n"
          ]
        },
        {
          "ename": "NameError",
          "evalue": "ignored",
          "output_type": "error",
          "traceback": [
            "\u001b[0;31m---------------------------------------------------------------------------\u001b[0m",
            "\u001b[0;31mNameError\u001b[0m                                 Traceback (most recent call last)",
            "\u001b[0;32m<ipython-input-1-15aa9ffebd31>\u001b[0m in \u001b[0;36m<module>\u001b[0;34m\u001b[0m\n\u001b[1;32m     42\u001b[0m     \u001b[0mmodel\u001b[0m \u001b[0;34m=\u001b[0m \u001b[0mkeras\u001b[0m\u001b[0;34m.\u001b[0m\u001b[0mSequential\u001b[0m\u001b[0;34m(\u001b[0m\u001b[0mlayers\u001b[0m\u001b[0;34m)\u001b[0m\u001b[0;34m\u001b[0m\u001b[0;34m\u001b[0m\u001b[0m\n\u001b[1;32m     43\u001b[0m     \u001b[0mmodel\u001b[0m\u001b[0;34m.\u001b[0m\u001b[0mcompile\u001b[0m\u001b[0;34m(\u001b[0m\u001b[0mloss\u001b[0m\u001b[0;34m=\u001b[0m\u001b[0;34m'categorical_crossentropy'\u001b[0m\u001b[0;34m,\u001b[0m \u001b[0moptimizer\u001b[0m\u001b[0;34m=\u001b[0m\u001b[0;34m'adam'\u001b[0m\u001b[0;34m,\u001b[0m \u001b[0mmetrics\u001b[0m\u001b[0;34m=\u001b[0m\u001b[0;34m[\u001b[0m\u001b[0;34m'accuracy'\u001b[0m\u001b[0;34m]\u001b[0m\u001b[0;34m)\u001b[0m\u001b[0;34m\u001b[0m\u001b[0;34m\u001b[0m\u001b[0m\n\u001b[0;32m---> 44\u001b[0;31m     \u001b[0mhistory\u001b[0m \u001b[0;34m=\u001b[0m \u001b[0mmodel\u001b[0m\u001b[0;34m.\u001b[0m\u001b[0mfit\u001b[0m\u001b[0;34m(\u001b[0m\u001b[0mX_train_norm\u001b[0m\u001b[0;34m,\u001b[0m \u001b[0my_train_onehot\u001b[0m\u001b[0;34m,\u001b[0m \u001b[0mbatch_size\u001b[0m\u001b[0;34m=\u001b[0m\u001b[0;36m32\u001b[0m\u001b[0;34m,\u001b[0m \u001b[0mepochs\u001b[0m\u001b[0;34m=\u001b[0m\u001b[0mnum_epochs\u001b[0m\u001b[0;34m,\u001b[0m \u001b[0mvalidation_data\u001b[0m\u001b[0;34m=\u001b[0m\u001b[0;34m(\u001b[0m\u001b[0mX_val_norm\u001b[0m\u001b[0;34m,\u001b[0m \u001b[0my_val_onehot\u001b[0m\u001b[0;34m)\u001b[0m\u001b[0;34m,\u001b[0m \u001b[0mverbose\u001b[0m\u001b[0;34m=\u001b[0m\u001b[0;36m0\u001b[0m\u001b[0;34m)\u001b[0m\u001b[0;34m\u001b[0m\u001b[0;34m\u001b[0m\u001b[0m\n\u001b[0m\u001b[1;32m     45\u001b[0m     \u001b[0mval_acc\u001b[0m \u001b[0;34m=\u001b[0m \u001b[0mmax\u001b[0m\u001b[0;34m(\u001b[0m\u001b[0mhistory\u001b[0m\u001b[0;34m.\u001b[0m\u001b[0mhistory\u001b[0m\u001b[0;34m[\u001b[0m\u001b[0;34m'val_accuracy'\u001b[0m\u001b[0;34m]\u001b[0m\u001b[0;34m)\u001b[0m\u001b[0;34m\u001b[0m\u001b[0;34m\u001b[0m\u001b[0m\n\u001b[1;32m     46\u001b[0m     \u001b[0mval_accs\u001b[0m\u001b[0;34m.\u001b[0m\u001b[0mappend\u001b[0m\u001b[0;34m(\u001b[0m\u001b[0mval_acc\u001b[0m\u001b[0;34m)\u001b[0m\u001b[0;34m\u001b[0m\u001b[0;34m\u001b[0m\u001b[0m\n",
            "\u001b[0;31mNameError\u001b[0m: name 'X_train_norm' is not defined"
          ]
        }
      ],
      "source": [
        "from tensorflow import keras\n",
        "from tensorflow.keras.layers import Conv2D, MaxPooling2D, Flatten, Dense\n",
        "\n",
        "# Define different sets of layers to compare\n",
        "layer_sets = [\n",
        "    [Conv2D(filters=64, kernel_size=(3, 3), activation='relu', input_shape=(156, 156, 3)),\n",
        "     Conv2D(filters=32, kernel_size=(3, 3), activation='relu'),\n",
        "     MaxPooling2D(pool_size=(2, 2)),\n",
        "     Flatten(),\n",
        "     Dense(32, activation='relu'),\n",
        "     Dense(4, activation='softmax')],\n",
        "     \n",
        "    [Conv2D(filters=64, kernel_size=(3, 3), activation='relu', input_shape=(156, 156, 3)),\n",
        "     Conv2D(filters=32, kernel_size=(3, 3), activation='relu'),\n",
        "     MaxPooling2D(pool_size=(2, 2)),\n",
        "     Conv2D(filters=64, kernel_size=(3, 3), activation='relu'),\n",
        "     Conv2D(filters=32, kernel_size=(3, 3), activation='relu'),\n",
        "     MaxPooling2D(pool_size=(2, 2)),\n",
        "     Flatten(),\n",
        "     Dense(32, activation='relu'),\n",
        "     Dense(4, activation='softmax')],\n",
        "     \n",
        "    [Conv2D(filters=64, kernel_size=(3, 3), activation='relu', input_shape=(156, 156, 3)),\n",
        "     Conv2D(filters=32, kernel_size=(3, 3), activation='relu'),\n",
        "     MaxPooling2D(pool_size=(2, 2)),\n",
        "     Conv2D(filters=64, kernel_size=(3, 3), activation='relu'),\n",
        "     Conv2D(filters=32, kernel_size=(3, 3), activation='relu'),\n",
        "     MaxPooling2D(pool_size=(2, 2)),\n",
        "     Conv2D(filters=64, kernel_size=(3, 3), activation='relu'),\n",
        "     Conv2D(filters=32, kernel_size=(3, 3), activation='relu'),\n",
        "     MaxPooling2D(pool_size=(2, 2)),\n",
        "     Flatten(),\n",
        "     Dense(32, activation='relu'),\n",
        "     Dense(4, activation='softmax')]\n",
        "]\n",
        "\n",
        "# Train each model for a specified number of epochs and record their validation accuracy\n",
        "num_epochs = 10\n",
        "val_accs = []\n",
        "for i, layers in enumerate(layer_sets):\n",
        "    print(f\"Training model {i+1}...\")\n",
        "    model = keras.Sequential(layers)\n",
        "    model.compile(loss='categorical_crossentropy', optimizer='adam', metrics=['accuracy'])\n",
        "    history = model.fit(X_train_norm, y_train_onehot, batch_size=32, epochs=num_epochs, validation_data=(X_val_norm, y_val_onehot), verbose=0)\n",
        "    val_acc = max(history.history['val_accuracy'])\n",
        "    val_accs.append(val_acc)\n",
        "    print(f\"Model {i+1} validation accuracy: {val_acc}\")\n",
        "\n",
        "# Print the layer set with the highest validation accuracy\n",
        "best_layers = layer_sets[val_accs.index(max(val_accs))]\n",
        "print(f\"\\nBest set of layers: {best_layers}\")\n"
      ]
    },
    {
      "cell_type": "code",
      "execution_count": null,
      "metadata": {
        "colab": {
          "base_uri": "https://localhost:8080/",
          "height": 356
        },
        "id": "RJywVQ6cM_BV",
        "outputId": "c39fac1b-8df4-43c5-e932-13ce2965fad3"
      },
      "outputs": [
        {
          "ename": "NameError",
          "evalue": "ignored",
          "output_type": "error",
          "traceback": [
            "\u001b[0;31m---------------------------------------------------------------------------\u001b[0m",
            "\u001b[0;31mNameError\u001b[0m                                 Traceback (most recent call last)",
            "\u001b[0;32m<ipython-input-1-c48c0b9b4731>\u001b[0m in \u001b[0;36m<module>\u001b[0;34m\u001b[0m\n\u001b[1;32m     31\u001b[0m     \u001b[0mmodel\u001b[0m\u001b[0;34m.\u001b[0m\u001b[0mcompile\u001b[0m\u001b[0;34m(\u001b[0m\u001b[0mloss\u001b[0m\u001b[0;34m=\u001b[0m\u001b[0;34m'categorical_crossentropy'\u001b[0m\u001b[0;34m,\u001b[0m \u001b[0moptimizer\u001b[0m\u001b[0;34m=\u001b[0m\u001b[0moptim\u001b[0m\u001b[0;34m,\u001b[0m \u001b[0mmetrics\u001b[0m\u001b[0;34m=\u001b[0m\u001b[0;34m[\u001b[0m\u001b[0;34m'accuracy'\u001b[0m\u001b[0;34m]\u001b[0m\u001b[0;34m)\u001b[0m\u001b[0;34m\u001b[0m\u001b[0;34m\u001b[0m\u001b[0m\n\u001b[1;32m     32\u001b[0m     \u001b[0;32mreturn\u001b[0m \u001b[0mmodel\u001b[0m\u001b[0;34m\u001b[0m\u001b[0;34m\u001b[0m\u001b[0m\n\u001b[0;32m---> 33\u001b[0;31m \u001b[0mBaseline_model\u001b[0m\u001b[0;34m=\u001b[0m\u001b[0mbuild_tuned_model\u001b[0m\u001b[0;34m(\u001b[0m\u001b[0;34m)\u001b[0m\u001b[0;34m\u001b[0m\u001b[0;34m\u001b[0m\u001b[0m\n\u001b[0m\u001b[1;32m     34\u001b[0m history = Baseline_model.fit(\n\u001b[1;32m     35\u001b[0m     \u001b[0mX_train_norm\u001b[0m\u001b[0;34m,\u001b[0m\u001b[0;34m\u001b[0m\u001b[0;34m\u001b[0m\u001b[0m\n",
            "\u001b[0;32m<ipython-input-1-c48c0b9b4731>\u001b[0m in \u001b[0;36mbuild_tuned_model\u001b[0;34m()\u001b[0m\n\u001b[1;32m      1\u001b[0m \u001b[0;32mdef\u001b[0m \u001b[0mbuild_tuned_model\u001b[0m\u001b[0;34m(\u001b[0m\u001b[0;34m)\u001b[0m\u001b[0;34m:\u001b[0m\u001b[0;34m\u001b[0m\u001b[0;34m\u001b[0m\u001b[0m\n\u001b[0;32m----> 2\u001b[0;31m     model = keras.Sequential([\n\u001b[0m\u001b[1;32m      3\u001b[0m     \u001b[0;31m# Convolutional layers\u001b[0m\u001b[0;34m\u001b[0m\u001b[0;34m\u001b[0m\u001b[0;34m\u001b[0m\u001b[0m\n\u001b[1;32m      4\u001b[0m     \u001b[0mkeras\u001b[0m\u001b[0;34m.\u001b[0m\u001b[0mlayers\u001b[0m\u001b[0;34m.\u001b[0m\u001b[0mConv2D\u001b[0m\u001b[0;34m(\u001b[0m\u001b[0mfilters\u001b[0m\u001b[0;34m=\u001b[0m\u001b[0;36m64\u001b[0m\u001b[0;34m,\u001b[0m \u001b[0mkernel_size\u001b[0m\u001b[0;34m=\u001b[0m\u001b[0;34m(\u001b[0m\u001b[0;36m3\u001b[0m\u001b[0;34m,\u001b[0m \u001b[0;36m3\u001b[0m\u001b[0;34m)\u001b[0m\u001b[0;34m,\u001b[0m \u001b[0mactivation\u001b[0m\u001b[0;34m=\u001b[0m\u001b[0mkeras\u001b[0m\u001b[0;34m.\u001b[0m\u001b[0mlayers\u001b[0m\u001b[0;34m.\u001b[0m\u001b[0mLeakyReLU\u001b[0m\u001b[0;34m(\u001b[0m\u001b[0malpha\u001b[0m\u001b[0;34m=\u001b[0m\u001b[0;36m0.01\u001b[0m\u001b[0;34m)\u001b[0m\u001b[0;34m,\u001b[0m \u001b[0minput_shape\u001b[0m\u001b[0;34m=\u001b[0m\u001b[0;34m(\u001b[0m\u001b[0;36m156\u001b[0m\u001b[0;34m,\u001b[0m \u001b[0;36m156\u001b[0m\u001b[0;34m,\u001b[0m \u001b[0;36m3\u001b[0m\u001b[0;34m)\u001b[0m\u001b[0;34m)\u001b[0m\u001b[0;34m,\u001b[0m\u001b[0;34m\u001b[0m\u001b[0;34m\u001b[0m\u001b[0m\n\u001b[1;32m      5\u001b[0m     \u001b[0mkeras\u001b[0m\u001b[0;34m.\u001b[0m\u001b[0mlayers\u001b[0m\u001b[0;34m.\u001b[0m\u001b[0mConv2D\u001b[0m\u001b[0;34m(\u001b[0m\u001b[0mfilters\u001b[0m\u001b[0;34m=\u001b[0m\u001b[0;36m32\u001b[0m\u001b[0;34m,\u001b[0m \u001b[0mkernel_size\u001b[0m\u001b[0;34m=\u001b[0m\u001b[0;34m(\u001b[0m\u001b[0;36m3\u001b[0m\u001b[0;34m,\u001b[0m \u001b[0;36m3\u001b[0m\u001b[0;34m)\u001b[0m\u001b[0;34m,\u001b[0m  \u001b[0mactivation\u001b[0m\u001b[0;34m=\u001b[0m\u001b[0mkeras\u001b[0m\u001b[0;34m.\u001b[0m\u001b[0mlayers\u001b[0m\u001b[0;34m.\u001b[0m\u001b[0mLeakyReLU\u001b[0m\u001b[0;34m(\u001b[0m\u001b[0malpha\u001b[0m\u001b[0;34m=\u001b[0m\u001b[0;36m0.01\u001b[0m\u001b[0;34m)\u001b[0m\u001b[0;34m)\u001b[0m\u001b[0;34m,\u001b[0m\u001b[0;34m\u001b[0m\u001b[0;34m\u001b[0m\u001b[0m\n",
            "\u001b[0;31mNameError\u001b[0m: name 'keras' is not defined"
          ]
        }
      ],
      "source": [
        "def build_tuned_model():\n",
        "    model = keras.Sequential([\n",
        "    # Convolutional layers\n",
        "    keras.layers.Conv2D(filters=64, kernel_size=(3, 3), activation=keras.layers.LeakyReLU(alpha=0.01), input_shape=(156, 156, 3)),\n",
        "    keras.layers.Conv2D(filters=32, kernel_size=(3, 3),  activation=keras.layers.LeakyReLU(alpha=0.01)),\n",
        "    keras.layers.MaxPooling2D(pool_size=(2, 2)),\n",
        "    keras.layers.Conv2D(filters=64, kernel_size=(3, 3), activation=keras.layers.LeakyReLU(alpha=0.1)),\n",
        "    keras.layers.Conv2D(filters=32, kernel_size=(3, 3),  activation=keras.layers.LeakyReLU(alpha=0.1)),\n",
        "    keras.layers.MaxPooling2D(pool_size=(2, 2)),\n",
        "    # (CHANGE VS BASELINE) Adding another pack of Conv2D and MaxPooling2D layers\n",
        "    #keras.layers.Conv2D(filters=64, kernel_size=(3, 3), activation='relu'),\n",
        "    #keras.layers.Conv2D(filters=32, kernel_size=(3, 3), activation='relu'),\n",
        "    #keras.layers.MaxPooling2D(pool_size=(2, 2)),\n",
        "    keras.layers.Conv2D(filters=64, kernel_size=(3, 3),  activation=keras.layers.LeakyReLU(alpha=0.01)),\n",
        "    keras.layers.Conv2D(filters=32, kernel_size=(3, 3),  activation=keras.layers.LeakyReLU(alpha=0.01)),\n",
        "    keras.layers.MaxPooling2D(pool_size=(2, 2)),\n",
        "  \n",
        "    # Dense layers\n",
        "    keras.layers.Flatten(),\n",
        "    keras.layers.Dense(32, activation=keras.layers.LeakyReLU(alpha=0.1)),\n",
        "    # (CHANGE VS BASELINE) Adding Dropout\n",
        "    #keras.layers.Dropout(0.3),\n",
        "    keras.layers.Dense(32, activation=keras.layers.LeakyReLU(alpha=0.1)),\n",
        "    # (CHANGE VS BASELINE) Adding Dropout\n",
        "    #keras.layers.Dropout(0.3)\n",
        "    keras.layers.Dense(4, activation='softmax')])\n",
        "    # Compile the model with appropriate loss function, optimizer, and metrics\n",
        "    # (CHANGE VS BASELINE) Adding the optimal lr\n",
        "    optim = keras.optimizers.Nadam(learning_rate=0.001) \n",
        "\n",
        "    model.compile(loss='categorical_crossentropy', optimizer=optim, metrics=['accuracy'])\n",
        "    return model\n",
        "Baseline_model=build_tuned_model()\n",
        "history = Baseline_model.fit(\n",
        "    X_train_norm,\n",
        "    y_train_onehot,\n",
        "    batch_size=32,\n",
        "    epochs=10,\n",
        "    validation_data=(X_val_norm, y_val_onehot)\n",
        ")"
      ]
    },
    {
      "cell_type": "code",
      "execution_count": null,
      "metadata": {
        "id": "hWwZ1fdbQwfX"
      },
      "outputs": [],
      "source": [
        "# K FOLD VALIDATION (5 max epochs for speeding purposes)\n",
        "\n",
        "from sklearn.model_selection import KFold\n",
        "\n",
        "k = 4\n",
        "num_val_samples = len(X_train_norm) // k \n",
        "num_epochs = 5\n",
        "all_val_losses = [] # Should add the score of each run at the end of the loop\n",
        "all_val_accuracies = []\n",
        "\n",
        "for i in range(k):\n",
        "    print('processing fold #', i)\n",
        "    # Prepare the validation data: data from partition # k\n",
        "    val_data = X_train_norm[i * num_val_samples: (i + 1) * num_val_samples] \n",
        "    val_targets = y_train_onehot[i * num_val_samples: (i + 1) * num_val_samples]\n",
        "\n",
        "    # Prepare the training data: data from all other partitions\n",
        "    partial_train_data = np.concatenate(\n",
        "        [X_train_norm[:i * num_val_samples],\n",
        "         X_train_norm[(i + 1) * num_val_samples:]],\n",
        "        axis=0)\n",
        "    partial_train_targets = np.concatenate(\n",
        "        [y_train_onehot[:i * num_val_samples],\n",
        "         y_train_onehot[(i + 1) * num_val_samples:]],\n",
        "        axis=0)\n",
        "    # (CHANGE VS BASELINE)Defining EarlyStopping callback\n",
        "    early_stopping = keras.callbacks.EarlyStopping(monitor='val_loss', patience=2)\n",
        "\n",
        "    tuned_model_1 = build_tuned_model_1()\n",
        "    # Train the model for 4 epochs with a batch size of 32\n",
        "    history = tuned_model_1.fit(\n",
        "        partial_train_data,\n",
        "        partial_train_targets,\n",
        "        batch_size=32,\n",
        "        epochs=num_epochs,\n",
        "        validation_data=(val_data, val_targets),\n",
        "        callbacks=[early_stopping]\n",
        "    )"
      ]
    },
    {
      "cell_type": "code",
      "execution_count": null,
      "metadata": {
        "id": "q5On3RV3QwfY"
      },
      "outputs": [],
      "source": [
        "# Evaluate the kfold results\n",
        "val_loss, val_accuracy = tuned_model_1.evaluate(val_data, val_targets, verbose=0)\n",
        "all_val_losses.append(val_loss)\n",
        "all_val_accuracies.append(val_accuracy)"
      ]
    },
    {
      "cell_type": "code",
      "execution_count": null,
      "metadata": {
        "id": "Je34KXQVQwfZ"
      },
      "outputs": [],
      "source": [
        "print(all_val_losses)\n",
        "print(all_val_accuracies)"
      ]
    },
    {
      "cell_type": "markdown",
      "metadata": {
        "id": "S734ypJWQwfZ"
      },
      "source": [
        "### 3.5 Analyze performance of fine-tuned model"
      ]
    },
    {
      "cell_type": "markdown",
      "metadata": {
        "id": "CBGr0x8ZcFn9"
      },
      "source": [
        "# Transfer Learning"
      ]
    },
    {
      "cell_type": "code",
      "execution_count": null,
      "metadata": {
        "id": "fn_WnCfDcFyD"
      },
      "outputs": [],
      "source": []
    }
  ],
  "metadata": {
    "accelerator": "GPU",
    "colab": {
      "provenance": []
    },
    "gpuClass": "standard",
    "kernelspec": {
      "display_name": "Python 3 (ipykernel)",
      "language": "python",
      "name": "python3"
    },
    "language_info": {
      "codemirror_mode": {
        "name": "ipython",
        "version": 3
      },
      "file_extension": ".py",
      "mimetype": "text/x-python",
      "name": "python",
      "nbconvert_exporter": "python",
      "pygments_lexer": "ipython3",
      "version": "3.10.8"
    },
    "vscode": {
      "interpreter": {
        "hash": "160d3d50f83ed3d75d0672b6b4d1134bc09c3e08300a8645f571fa0ede095231"
      }
    }
  },
  "nbformat": 4,
  "nbformat_minor": 0
}